{
 "cells": [
  {
   "cell_type": "code",
   "execution_count": 1,
   "id": "6893b8e7",
   "metadata": {},
   "outputs": [],
   "source": [
    "import pandas as pd\n",
    "import matplotlib.pyplot as plt\n",
    "from matplotlib.font_manager import FontProperties\n",
    "import numpy as np\n",
    "import pymysql\n",
    "import seaborn as sns"
   ]
  },
  {
   "cell_type": "code",
   "execution_count": 2,
   "id": "df5b5981",
   "metadata": {},
   "outputs": [],
   "source": [
    "conn = pymysql.connect(host='localhost', \n",
    "                     user='root', \n",
    "                     port= 3306,\n",
    "                     database = 'KYF',\n",
    "                     charset = 'utf8')\n",
    "cursor = conn.cursor() # <pymysql.cursors.Cursor at 0x242688ba160>"
   ]
  },
  {
   "cell_type": "code",
   "execution_count": 3,
   "id": "50f6f314",
   "metadata": {},
   "outputs": [],
   "source": [
    "columns = ['日期','自定義產線ID', '主螺桿溫度1', '主螺桿溫度2', '主螺桿溫度3', '主螺桿溫度4', '主螺桿溫度5', '主螺桿溫度6', '前輪轉數', '中輪轉數', '後輪轉數', '厚度', '線速度', '前輪電流', '中輪電流', '後輪電流', '總電流', '總電壓', '總功率']"
   ]
  },
  {
   "cell_type": "markdown",
   "id": "e962dce7",
   "metadata": {},
   "source": [
    "# 2020 押出紀錄"
   ]
  },
  {
   "cell_type": "markdown",
   "id": "31ad7c92",
   "metadata": {},
   "source": [
    "## 觀察數據資料"
   ]
  },
  {
   "cell_type": "code",
   "execution_count": 4,
   "id": "3144b534",
   "metadata": {},
   "outputs": [],
   "source": [
    "sql = 'SELECT * FROM 押出2020'\n",
    "cursor.execute(sql)\n",
    "data = cursor.fetchall() # data type is tuple\n",
    "df = pd.DataFrame(data)"
   ]
  },
  {
   "cell_type": "code",
   "execution_count": 5,
   "id": "facd8d17",
   "metadata": {},
   "outputs": [],
   "source": [
    "df.columns = columns"
   ]
  },
  {
   "cell_type": "code",
   "execution_count": 6,
   "id": "216d447b",
   "metadata": {},
   "outputs": [],
   "source": [
    "data = df[['日期','主螺桿溫度1', '主螺桿溫度2', '主螺桿溫度3', '主螺桿溫度4', '主螺桿溫度5', '主螺桿溫度6']]"
   ]
  },
  {
   "cell_type": "code",
   "execution_count": 7,
   "id": "fd7ddd82",
   "metadata": {},
   "outputs": [
    {
     "name": "stderr",
     "output_type": "stream",
     "text": [
      "<ipython-input-7-066e1bb84b0e>:1: SettingWithCopyWarning: \n",
      "A value is trying to be set on a copy of a slice from a DataFrame.\n",
      "Try using .loc[row_indexer,col_indexer] = value instead\n",
      "\n",
      "See the caveats in the documentation: https://pandas.pydata.org/pandas-docs/stable/user_guide/indexing.html#returning-a-view-versus-a-copy\n",
      "  data['平均螺桿溫度'] = (data['主螺桿溫度1']+data['主螺桿溫度2']+data['主螺桿溫度3']+data['主螺桿溫度4']+data['主螺桿溫度5']+data['主螺桿溫度6'])/6\n"
     ]
    }
   ],
   "source": [
    "data['平均螺桿溫度'] = (data['主螺桿溫度1']+data['主螺桿溫度2']+data['主螺桿溫度3']+data['主螺桿溫度4']+data['主螺桿溫度5']+data['主螺桿溫度6'])/6"
   ]
  },
  {
   "cell_type": "code",
   "execution_count": 8,
   "id": "e9186bb2",
   "metadata": {},
   "outputs": [
    {
     "data": {
      "text/html": [
       "<div>\n",
       "<style scoped>\n",
       "    .dataframe tbody tr th:only-of-type {\n",
       "        vertical-align: middle;\n",
       "    }\n",
       "\n",
       "    .dataframe tbody tr th {\n",
       "        vertical-align: top;\n",
       "    }\n",
       "\n",
       "    .dataframe thead th {\n",
       "        text-align: right;\n",
       "    }\n",
       "</style>\n",
       "<table border=\"1\" class=\"dataframe\">\n",
       "  <thead>\n",
       "    <tr style=\"text-align: right;\">\n",
       "      <th></th>\n",
       "      <th>日期</th>\n",
       "      <th>主螺桿溫度1</th>\n",
       "      <th>主螺桿溫度2</th>\n",
       "      <th>主螺桿溫度3</th>\n",
       "      <th>主螺桿溫度4</th>\n",
       "      <th>主螺桿溫度5</th>\n",
       "      <th>主螺桿溫度6</th>\n",
       "      <th>平均螺桿溫度</th>\n",
       "    </tr>\n",
       "  </thead>\n",
       "  <tbody>\n",
       "    <tr>\n",
       "      <th>0</th>\n",
       "      <td>2020-01-01 00:00:00</td>\n",
       "      <td>274.0</td>\n",
       "      <td>275.0</td>\n",
       "      <td>273.0</td>\n",
       "      <td>276.0</td>\n",
       "      <td>276.0</td>\n",
       "      <td>277.0</td>\n",
       "      <td>275.166667</td>\n",
       "    </tr>\n",
       "    <tr>\n",
       "      <th>1</th>\n",
       "      <td>2020-01-01 00:01:00</td>\n",
       "      <td>277.0</td>\n",
       "      <td>275.0</td>\n",
       "      <td>275.0</td>\n",
       "      <td>274.0</td>\n",
       "      <td>273.0</td>\n",
       "      <td>276.0</td>\n",
       "      <td>275.000000</td>\n",
       "    </tr>\n",
       "    <tr>\n",
       "      <th>2</th>\n",
       "      <td>2020-01-01 00:02:00</td>\n",
       "      <td>272.0</td>\n",
       "      <td>275.0</td>\n",
       "      <td>278.0</td>\n",
       "      <td>276.0</td>\n",
       "      <td>277.0</td>\n",
       "      <td>275.0</td>\n",
       "      <td>275.500000</td>\n",
       "    </tr>\n",
       "    <tr>\n",
       "      <th>3</th>\n",
       "      <td>2020-01-01 00:03:00</td>\n",
       "      <td>274.0</td>\n",
       "      <td>277.0</td>\n",
       "      <td>277.0</td>\n",
       "      <td>277.0</td>\n",
       "      <td>275.0</td>\n",
       "      <td>275.0</td>\n",
       "      <td>275.833333</td>\n",
       "    </tr>\n",
       "    <tr>\n",
       "      <th>4</th>\n",
       "      <td>2020-01-01 00:04:00</td>\n",
       "      <td>273.0</td>\n",
       "      <td>276.0</td>\n",
       "      <td>278.0</td>\n",
       "      <td>275.0</td>\n",
       "      <td>276.0</td>\n",
       "      <td>277.0</td>\n",
       "      <td>275.833333</td>\n",
       "    </tr>\n",
       "  </tbody>\n",
       "</table>\n",
       "</div>"
      ],
      "text/plain": [
       "                   日期  主螺桿溫度1  主螺桿溫度2  主螺桿溫度3  主螺桿溫度4  主螺桿溫度5  主螺桿溫度6  \\\n",
       "0 2020-01-01 00:00:00   274.0   275.0   273.0   276.0   276.0   277.0   \n",
       "1 2020-01-01 00:01:00   277.0   275.0   275.0   274.0   273.0   276.0   \n",
       "2 2020-01-01 00:02:00   272.0   275.0   278.0   276.0   277.0   275.0   \n",
       "3 2020-01-01 00:03:00   274.0   277.0   277.0   277.0   275.0   275.0   \n",
       "4 2020-01-01 00:04:00   273.0   276.0   278.0   275.0   276.0   277.0   \n",
       "\n",
       "       平均螺桿溫度  \n",
       "0  275.166667  \n",
       "1  275.000000  \n",
       "2  275.500000  \n",
       "3  275.833333  \n",
       "4  275.833333  "
      ]
     },
     "execution_count": 8,
     "metadata": {},
     "output_type": "execute_result"
    }
   ],
   "source": [
    "data.head()"
   ]
  },
  {
   "cell_type": "code",
   "execution_count": 9,
   "id": "fce6e5ef",
   "metadata": {},
   "outputs": [
    {
     "name": "stderr",
     "output_type": "stream",
     "text": [
      "<ipython-input-9-a09662e872bd>:1: SettingWithCopyWarning: \n",
      "A value is trying to be set on a copy of a slice from a DataFrame.\n",
      "Try using .loc[row_indexer,col_indexer] = value instead\n",
      "\n",
      "See the caveats in the documentation: https://pandas.pydata.org/pandas-docs/stable/user_guide/indexing.html#returning-a-view-versus-a-copy\n",
      "  data['月份'] = data['日期'].dt.month\n"
     ]
    }
   ],
   "source": [
    "data['月份'] = data['日期'].dt.month "
   ]
  },
  {
   "cell_type": "markdown",
   "id": "79d418ba",
   "metadata": {},
   "source": [
    "## 去nan＆0"
   ]
  },
  {
   "cell_type": "code",
   "execution_count": 10,
   "id": "d0f38189",
   "metadata": {},
   "outputs": [],
   "source": [
    "# data 367377 去nan\n",
    "data = data.dropna(subset=['主螺桿溫度1', '主螺桿溫度2', '主螺桿溫度3', '主螺桿溫度4', '主螺桿溫度5', '主螺桿溫度6'])\n",
    "# data 367365 去0\n",
    "data = data.drop(index = data.平均螺桿溫度[data.平均螺桿溫度 == 0].index)"
   ]
  },
  {
   "cell_type": "markdown",
   "id": "857a88d0",
   "metadata": {},
   "source": [
    "## 尋找正常/異常溫度範圍"
   ]
  },
  {
   "cell_type": "code",
   "execution_count": 11,
   "id": "cf80334d",
   "metadata": {},
   "outputs": [
    {
     "data": {
      "text/plain": [
       "276.2772329064198"
      ]
     },
     "execution_count": 11,
     "metadata": {},
     "output_type": "execute_result"
    }
   ],
   "source": [
    "# 平均螺桿溫度欄位平均\n",
    "data[\"平均螺桿溫度\"].mean()"
   ]
  },
  {
   "cell_type": "markdown",
   "id": "f56c412c",
   "metadata": {},
   "source": [
    "# 每個月暴漲的次數，反證\n",
    "# 電壓電流\n",
    "# 比對 每個月異常次數"
   ]
  },
  {
   "cell_type": "code",
   "execution_count": 12,
   "id": "46abb56d",
   "metadata": {},
   "outputs": [
    {
     "name": "stdout",
     "output_type": "stream",
     "text": [
      "平均螺桿溫度上4度: 280.2772329064198\n",
      "平均螺桿溫度下4度: 272.2772329064198\n"
     ]
    }
   ],
   "source": [
    "# 正負4度\n",
    "plus4 = data[\"平均螺桿溫度\"].mean()+4\n",
    "print('平均螺桿溫度上4度: ' + str(plus4))\n",
    "\n",
    "minus4 = data[\"平均螺桿溫度\"].mean()-4\n",
    "print('平均螺桿溫度下4度: ' + str(minus4))"
   ]
  },
  {
   "cell_type": "code",
   "execution_count": 13,
   "id": "919eee4e",
   "metadata": {},
   "outputs": [
    {
     "name": "stdout",
     "output_type": "stream",
     "text": [
      "正常範圍內最大平均螺桿溫度: 280.1666666666667\n",
      "正常範圍內最小平均螺桿溫度: 272.3333333333333\n",
      "\n",
      "\n",
      "異常值最大螺桿平均溫度: 294.1666666666667\n",
      "異常值最小螺桿平均溫度: 21.5\n"
     ]
    }
   ],
   "source": [
    "# 正常值範圍\n",
    "normal = data[data[\"平均螺桿溫度\"].between(minus4, plus4)]\n",
    "print('正常範圍內最大平均螺桿溫度: '+str(normal['平均螺桿溫度'].max()))\n",
    "print('正常範圍內最小平均螺桿溫度: '+str(normal['平均螺桿溫度'].min()))\n",
    "\n",
    "print('\\n')\n",
    "\n",
    "# 異常值範圍\n",
    "min_abnormal = data[data[\"平均螺桿溫度\"] < minus4]\n",
    "max_abnormal = data[data[\"平均螺桿溫度\"] > plus4]\n",
    "\n",
    "# min_abnormal\n",
    "print('異常值最大螺桿平均溫度: '+str(max_abnormal['平均螺桿溫度'].max()))\n",
    "# max_abnormal\n",
    "print('異常值最小螺桿平均溫度: '+str(min_abnormal['平均螺桿溫度'].min()))"
   ]
  },
  {
   "cell_type": "code",
   "execution_count": 14,
   "id": "c883ffc8",
   "metadata": {},
   "outputs": [
    {
     "name": "stdout",
     "output_type": "stream",
     "text": [
      "平均螺桿溫度上4度: 279.2772329064198\n",
      "平均螺桿溫度下4度: 273.2772329064198\n"
     ]
    }
   ],
   "source": [
    "# 正負3度\n",
    "plus3 = data[\"平均螺桿溫度\"].mean()+3\n",
    "print('平均螺桿溫度上4度: ' + str(plus3))\n",
    "\n",
    "minus3 = data[\"平均螺桿溫度\"].mean()-3\n",
    "print('平均螺桿溫度下4度: ' + str(minus3))"
   ]
  },
  {
   "cell_type": "code",
   "execution_count": 15,
   "id": "ea3f479c",
   "metadata": {},
   "outputs": [
    {
     "name": "stdout",
     "output_type": "stream",
     "text": [
      "正常範圍內最大平均螺桿溫度: 279.1666666666667\n",
      "正常範圍內最小平均螺桿溫度: 273.3333333333333\n",
      "\n",
      "\n",
      "異常值最大螺桿平均溫度: 294.1666666666667\n",
      "異常值最小螺桿平均溫度: 21.5\n"
     ]
    }
   ],
   "source": [
    "# 正常值範圍\n",
    "normal = data[data[\"平均螺桿溫度\"].between(minus3, plus3)]\n",
    "print('正常範圍內最大平均螺桿溫度: '+str(normal['平均螺桿溫度'].max()))\n",
    "print('正常範圍內最小平均螺桿溫度: '+str(normal['平均螺桿溫度'].min()))\n",
    "\n",
    "print('\\n')\n",
    "\n",
    "# 異常值範圍\n",
    "min_abnormal = data[data[\"平均螺桿溫度\"] < minus3]\n",
    "max_abnormal = data[data[\"平均螺桿溫度\"] > plus3]\n",
    "\n",
    "# min_abnormal\n",
    "print('異常值最大螺桿平均溫度: '+str(max_abnormal['平均螺桿溫度'].max()))\n",
    "# max_abnormal\n",
    "print('異常值最小螺桿平均溫度: '+str(min_abnormal['平均螺桿溫度'].min()))"
   ]
  },
  {
   "cell_type": "code",
   "execution_count": 16,
   "id": "2a02323f",
   "metadata": {},
   "outputs": [
    {
     "name": "stdout",
     "output_type": "stream",
     "text": [
      "總筆數: 367365\n",
      "異常值總筆數: 54453\n",
      "正常值總筆數: 312912\n"
     ]
    }
   ],
   "source": [
    "# 資料總筆數\n",
    "print('總筆數: ' + str(len(data)))\n",
    "# 異常值總筆數\n",
    "print('異常值總筆數: ' + str(len(min_abnormal)+len(max_abnormal)))\n",
    "# 正常值總筆數\n",
    "print('正常值總筆數: ' + str(len(normal)))"
   ]
  },
  {
   "cell_type": "code",
   "execution_count": 17,
   "id": "e58b975e",
   "metadata": {},
   "outputs": [],
   "source": [
    "error = pd.concat([min_abnormal, max_abnormal], ignore_index=True)"
   ]
  },
  {
   "cell_type": "code",
   "execution_count": 18,
   "id": "8b1d2e25",
   "metadata": {},
   "outputs": [
    {
     "data": {
      "text/html": [
       "<div>\n",
       "<style scoped>\n",
       "    .dataframe tbody tr th:only-of-type {\n",
       "        vertical-align: middle;\n",
       "    }\n",
       "\n",
       "    .dataframe tbody tr th {\n",
       "        vertical-align: top;\n",
       "    }\n",
       "\n",
       "    .dataframe thead th {\n",
       "        text-align: right;\n",
       "    }\n",
       "</style>\n",
       "<table border=\"1\" class=\"dataframe\">\n",
       "  <thead>\n",
       "    <tr style=\"text-align: right;\">\n",
       "      <th></th>\n",
       "      <th>日期</th>\n",
       "      <th>主螺桿溫度1</th>\n",
       "      <th>主螺桿溫度2</th>\n",
       "      <th>主螺桿溫度3</th>\n",
       "      <th>主螺桿溫度4</th>\n",
       "      <th>主螺桿溫度5</th>\n",
       "      <th>主螺桿溫度6</th>\n",
       "      <th>平均螺桿溫度</th>\n",
       "      <th>月份</th>\n",
       "    </tr>\n",
       "  </thead>\n",
       "  <tbody>\n",
       "    <tr>\n",
       "      <th>0</th>\n",
       "      <td>2020-01-01 05:35:00</td>\n",
       "      <td>272.0</td>\n",
       "      <td>272.0</td>\n",
       "      <td>276.0</td>\n",
       "      <td>272.0</td>\n",
       "      <td>272.0</td>\n",
       "      <td>274.0</td>\n",
       "      <td>273.000000</td>\n",
       "      <td>1</td>\n",
       "    </tr>\n",
       "    <tr>\n",
       "      <th>1</th>\n",
       "      <td>2020-01-01 05:36:00</td>\n",
       "      <td>272.0</td>\n",
       "      <td>272.0</td>\n",
       "      <td>276.0</td>\n",
       "      <td>272.0</td>\n",
       "      <td>272.0</td>\n",
       "      <td>274.0</td>\n",
       "      <td>273.000000</td>\n",
       "      <td>1</td>\n",
       "    </tr>\n",
       "    <tr>\n",
       "      <th>2</th>\n",
       "      <td>2020-01-01 05:56:00</td>\n",
       "      <td>273.0</td>\n",
       "      <td>273.0</td>\n",
       "      <td>269.0</td>\n",
       "      <td>273.0</td>\n",
       "      <td>274.0</td>\n",
       "      <td>274.0</td>\n",
       "      <td>272.666667</td>\n",
       "      <td>1</td>\n",
       "    </tr>\n",
       "    <tr>\n",
       "      <th>3</th>\n",
       "      <td>2020-01-01 05:59:00</td>\n",
       "      <td>270.0</td>\n",
       "      <td>275.0</td>\n",
       "      <td>273.0</td>\n",
       "      <td>273.0</td>\n",
       "      <td>273.0</td>\n",
       "      <td>275.0</td>\n",
       "      <td>273.166667</td>\n",
       "      <td>1</td>\n",
       "    </tr>\n",
       "    <tr>\n",
       "      <th>4</th>\n",
       "      <td>2020-01-01 06:05:00</td>\n",
       "      <td>273.0</td>\n",
       "      <td>273.0</td>\n",
       "      <td>270.0</td>\n",
       "      <td>271.0</td>\n",
       "      <td>274.0</td>\n",
       "      <td>275.0</td>\n",
       "      <td>272.666667</td>\n",
       "      <td>1</td>\n",
       "    </tr>\n",
       "    <tr>\n",
       "      <th>...</th>\n",
       "      <td>...</td>\n",
       "      <td>...</td>\n",
       "      <td>...</td>\n",
       "      <td>...</td>\n",
       "      <td>...</td>\n",
       "      <td>...</td>\n",
       "      <td>...</td>\n",
       "      <td>...</td>\n",
       "      <td>...</td>\n",
       "    </tr>\n",
       "    <tr>\n",
       "      <th>54448</th>\n",
       "      <td>2020-12-31 18:36:00</td>\n",
       "      <td>285.0</td>\n",
       "      <td>285.0</td>\n",
       "      <td>282.0</td>\n",
       "      <td>286.0</td>\n",
       "      <td>286.0</td>\n",
       "      <td>285.0</td>\n",
       "      <td>284.833333</td>\n",
       "      <td>12</td>\n",
       "    </tr>\n",
       "    <tr>\n",
       "      <th>54449</th>\n",
       "      <td>2020-12-31 18:37:00</td>\n",
       "      <td>284.0</td>\n",
       "      <td>282.0</td>\n",
       "      <td>283.0</td>\n",
       "      <td>286.0</td>\n",
       "      <td>284.0</td>\n",
       "      <td>285.0</td>\n",
       "      <td>284.000000</td>\n",
       "      <td>12</td>\n",
       "    </tr>\n",
       "    <tr>\n",
       "      <th>54450</th>\n",
       "      <td>2020-12-31 18:38:00</td>\n",
       "      <td>284.0</td>\n",
       "      <td>282.0</td>\n",
       "      <td>283.0</td>\n",
       "      <td>286.0</td>\n",
       "      <td>284.0</td>\n",
       "      <td>285.0</td>\n",
       "      <td>284.000000</td>\n",
       "      <td>12</td>\n",
       "    </tr>\n",
       "    <tr>\n",
       "      <th>54451</th>\n",
       "      <td>2020-12-31 18:39:00</td>\n",
       "      <td>287.0</td>\n",
       "      <td>284.0</td>\n",
       "      <td>281.0</td>\n",
       "      <td>284.0</td>\n",
       "      <td>283.0</td>\n",
       "      <td>285.0</td>\n",
       "      <td>284.000000</td>\n",
       "      <td>12</td>\n",
       "    </tr>\n",
       "    <tr>\n",
       "      <th>54452</th>\n",
       "      <td>2020-12-31 18:40:00</td>\n",
       "      <td>283.0</td>\n",
       "      <td>286.0</td>\n",
       "      <td>284.0</td>\n",
       "      <td>285.0</td>\n",
       "      <td>287.0</td>\n",
       "      <td>285.0</td>\n",
       "      <td>285.000000</td>\n",
       "      <td>12</td>\n",
       "    </tr>\n",
       "  </tbody>\n",
       "</table>\n",
       "<p>54453 rows × 9 columns</p>\n",
       "</div>"
      ],
      "text/plain": [
       "                       日期  主螺桿溫度1  主螺桿溫度2  主螺桿溫度3  主螺桿溫度4  主螺桿溫度5  主螺桿溫度6  \\\n",
       "0     2020-01-01 05:35:00   272.0   272.0   276.0   272.0   272.0   274.0   \n",
       "1     2020-01-01 05:36:00   272.0   272.0   276.0   272.0   272.0   274.0   \n",
       "2     2020-01-01 05:56:00   273.0   273.0   269.0   273.0   274.0   274.0   \n",
       "3     2020-01-01 05:59:00   270.0   275.0   273.0   273.0   273.0   275.0   \n",
       "4     2020-01-01 06:05:00   273.0   273.0   270.0   271.0   274.0   275.0   \n",
       "...                   ...     ...     ...     ...     ...     ...     ...   \n",
       "54448 2020-12-31 18:36:00   285.0   285.0   282.0   286.0   286.0   285.0   \n",
       "54449 2020-12-31 18:37:00   284.0   282.0   283.0   286.0   284.0   285.0   \n",
       "54450 2020-12-31 18:38:00   284.0   282.0   283.0   286.0   284.0   285.0   \n",
       "54451 2020-12-31 18:39:00   287.0   284.0   281.0   284.0   283.0   285.0   \n",
       "54452 2020-12-31 18:40:00   283.0   286.0   284.0   285.0   287.0   285.0   \n",
       "\n",
       "           平均螺桿溫度  月份  \n",
       "0      273.000000   1  \n",
       "1      273.000000   1  \n",
       "2      272.666667   1  \n",
       "3      273.166667   1  \n",
       "4      272.666667   1  \n",
       "...           ...  ..  \n",
       "54448  284.833333  12  \n",
       "54449  284.000000  12  \n",
       "54450  284.000000  12  \n",
       "54451  284.000000  12  \n",
       "54452  285.000000  12  \n",
       "\n",
       "[54453 rows x 9 columns]"
      ]
     },
     "execution_count": 18,
     "metadata": {},
     "output_type": "execute_result"
    }
   ],
   "source": [
    "error"
   ]
  },
  {
   "cell_type": "code",
   "execution_count": 19,
   "id": "191c8da7",
   "metadata": {
    "scrolled": true
   },
   "outputs": [
    {
     "name": "stdout",
     "output_type": "stream",
     "text": [
      "1月 26236筆紀錄\n",
      "1月 583筆異常\n",
      "2月 0筆紀錄\n",
      "2月 0筆異常\n",
      "3月 19154筆紀錄\n",
      "3月 562筆異常\n",
      "4月 41634筆紀錄\n",
      "4月 1262筆異常\n",
      "5月 44582筆紀錄\n",
      "5月 1365筆異常\n",
      "6月 43015筆紀錄\n",
      "6月 1679筆異常\n",
      "7月 44202筆紀錄\n",
      "7月 1438筆異常\n",
      "8月 10432筆紀錄\n",
      "8月 284筆異常\n",
      "9月 11796筆紀錄\n",
      "9月 388筆異常\n",
      "10月 41053筆紀錄\n",
      "10月 1495筆異常\n",
      "11月 41344筆紀錄\n",
      "11月 1547筆異常\n",
      "12月 43917筆紀錄\n",
      "12月 43850筆異常\n"
     ]
    }
   ],
   "source": [
    "for x in range(1,13):\n",
    "    print(f'{x}月 ' + str(len(data[data['月份'] == x])) + '筆紀錄')\n",
    "    print(f'{x}月 ' + str(len(error[error['月份'] == x])) + '筆異常')"
   ]
  },
  {
   "cell_type": "code",
   "execution_count": 20,
   "id": "8b003ec7",
   "metadata": {},
   "outputs": [
    {
     "data": {
      "image/png": "[encoded data removed]",
      "text/plain": [
       "<Figure size 432x288 with 1 Axes>"
      ]
     },
     "metadata": {},
     "output_type": "display_data"
    }
   ],
   "source": [
    "sns.set(style=\"darkgrid\") # darkgrid, whitegrid, dark, white, ticks\n",
    "\n",
    "degree = pd.DataFrame([\n",
    "    ['Jan', 'all', 26236],\n",
    "    ['Jan', 'error', 333],\n",
    "    ['Feb', 'all', 0],\n",
    "    ['Feb', 'error', 0],\n",
    "    ['Mar', 'all', 19154],\n",
    "    ['Mar', 'error', 392],\n",
    "    ['Apr', 'all', 41634],\n",
    "    ['Apr', 'error', 873],\n",
    "    ['May', 'all', 44582],\n",
    "    ['May', 'error', 904],\n",
    "    ['June', 'all', 43015],\n",
    "    ['June', 'error', 1045],\n",
    "    ['July', 'all', 44202],\n",
    "    ['July', 'error', 926],\n",
    "    ['Aug', 'all', 10432],\n",
    "    ['Aug', 'error', 180],\n",
    "    ['Sept','all', 11796],\n",
    "    ['Sept', 'error', 275],\n",
    "    ['Oct','all', 41053],\n",
    "    ['Oct', 'error', 1121],\n",
    "    ['Nov','all', 41344],\n",
    "    ['Nov', 'error', 1217],\n",
    "    ['Dec','all', 43917],\n",
    "    ['Dec', 'error', 43792],\n",
    "], columns=['Month', 'Class', 'Counts'])\n",
    "\n",
    "ax = sns.barplot(x='Month', y='Counts', hue='Class', data=degree)\n",
    "plt.savefig('pic.png', dpi = 500)"
   ]
  },
  {
   "cell_type": "code",
   "execution_count": 21,
   "id": "96e19aa0",
   "metadata": {},
   "outputs": [
    {
     "data": {
      "text/plain": [
       "[26236,\n",
       " 333,\n",
       " 0,\n",
       " 0,\n",
       " 19154,\n",
       " 392,\n",
       " 41634,\n",
       " 873,\n",
       " 44582,\n",
       " 904,\n",
       " 43015,\n",
       " 1045,\n",
       " 44202,\n",
       " 926,\n",
       " 10432,\n",
       " 180,\n",
       " 11796,\n",
       " 275,\n",
       " 41053,\n",
       " 1121,\n",
       " 41344,\n",
       " 1217,\n",
       " 43917,\n",
       " 43792]"
      ]
     },
     "execution_count": 21,
     "metadata": {},
     "output_type": "execute_result"
    }
   ],
   "source": [
    "counts = degree['Counts'].tolist()\n",
    "counts"
   ]
  },
  {
   "cell_type": "code",
   "execution_count": 22,
   "id": "58bc7b3b",
   "metadata": {},
   "outputs": [],
   "source": [
    "all_counts = []\n",
    "error_counts = []\n",
    "for x in range(len(counts)):\n",
    "    if x % 2 == 0:\n",
    "        all_counts.append(counts[x])\n",
    "    else:\n",
    "        error_counts.append(counts[x])"
   ]
  },
  {
   "cell_type": "markdown",
   "id": "59b3a5d5",
   "metadata": {},
   "source": [
    "## 線速度"
   ]
  },
  {
   "cell_type": "code",
   "execution_count": 23,
   "id": "fecff727",
   "metadata": {},
   "outputs": [],
   "source": [
    "speed_data = df[['日期','線速度']] #376057"
   ]
  },
  {
   "cell_type": "code",
   "execution_count": 24,
   "id": "6fcb260d",
   "metadata": {},
   "outputs": [],
   "source": [
    "# 剔除線速度為NAN和0的值\n",
    "speed_data = speed_data.dropna(subset=['線速度']) # 375753\n",
    "speed_data = speed_data[speed_data['線速度'] != 0] # 363478"
   ]
  },
  {
   "cell_type": "code",
   "execution_count": 25,
   "id": "10b4c0b8",
   "metadata": {},
   "outputs": [],
   "source": [
    "speed_data['月份'] = speed_data['日期'].dt.month"
   ]
  },
  {
   "cell_type": "code",
   "execution_count": 26,
   "id": "7b205fba",
   "metadata": {},
   "outputs": [
    {
     "data": {
      "text/html": [
       "<div>\n",
       "<style scoped>\n",
       "    .dataframe tbody tr th:only-of-type {\n",
       "        vertical-align: middle;\n",
       "    }\n",
       "\n",
       "    .dataframe tbody tr th {\n",
       "        vertical-align: top;\n",
       "    }\n",
       "\n",
       "    .dataframe thead th {\n",
       "        text-align: right;\n",
       "    }\n",
       "</style>\n",
       "<table border=\"1\" class=\"dataframe\">\n",
       "  <thead>\n",
       "    <tr style=\"text-align: right;\">\n",
       "      <th></th>\n",
       "      <th>日期</th>\n",
       "      <th>線速度</th>\n",
       "      <th>月份</th>\n",
       "    </tr>\n",
       "  </thead>\n",
       "  <tbody>\n",
       "    <tr>\n",
       "      <th>375692</th>\n",
       "      <td>2020-12-31 17:54:00</td>\n",
       "      <td>30.02625</td>\n",
       "      <td>12</td>\n",
       "    </tr>\n",
       "    <tr>\n",
       "      <th>375693</th>\n",
       "      <td>2020-12-31 17:55:00</td>\n",
       "      <td>30.02625</td>\n",
       "      <td>12</td>\n",
       "    </tr>\n",
       "    <tr>\n",
       "      <th>375694</th>\n",
       "      <td>2020-12-31 17:56:00</td>\n",
       "      <td>30.02250</td>\n",
       "      <td>12</td>\n",
       "    </tr>\n",
       "    <tr>\n",
       "      <th>375695</th>\n",
       "      <td>2020-12-31 17:57:00</td>\n",
       "      <td>30.02625</td>\n",
       "      <td>12</td>\n",
       "    </tr>\n",
       "    <tr>\n",
       "      <th>375696</th>\n",
       "      <td>2020-12-31 17:58:00</td>\n",
       "      <td>0.15375</td>\n",
       "      <td>12</td>\n",
       "    </tr>\n",
       "  </tbody>\n",
       "</table>\n",
       "</div>"
      ],
      "text/plain": [
       "                        日期       線速度  月份\n",
       "375692 2020-12-31 17:54:00  30.02625  12\n",
       "375693 2020-12-31 17:55:00  30.02625  12\n",
       "375694 2020-12-31 17:56:00  30.02250  12\n",
       "375695 2020-12-31 17:57:00  30.02625  12\n",
       "375696 2020-12-31 17:58:00   0.15375  12"
      ]
     },
     "execution_count": 26,
     "metadata": {},
     "output_type": "execute_result"
    }
   ],
   "source": [
    "speed_data.tail()"
   ]
  },
  {
   "cell_type": "code",
   "execution_count": 27,
   "id": "e1539f2b",
   "metadata": {},
   "outputs": [
    {
     "data": {
      "text/html": [
       "<div>\n",
       "<style scoped>\n",
       "    .dataframe tbody tr th:only-of-type {\n",
       "        vertical-align: middle;\n",
       "    }\n",
       "\n",
       "    .dataframe tbody tr th {\n",
       "        vertical-align: top;\n",
       "    }\n",
       "\n",
       "    .dataframe thead th {\n",
       "        text-align: right;\n",
       "    }\n",
       "</style>\n",
       "<table border=\"1\" class=\"dataframe\">\n",
       "  <thead>\n",
       "    <tr style=\"text-align: right;\">\n",
       "      <th></th>\n",
       "      <th>線速度</th>\n",
       "      <th>月份</th>\n",
       "    </tr>\n",
       "  </thead>\n",
       "  <tbody>\n",
       "    <tr>\n",
       "      <th>331481</th>\n",
       "      <td>33.25500</td>\n",
       "      <td>12</td>\n",
       "    </tr>\n",
       "    <tr>\n",
       "      <th>331482</th>\n",
       "      <td>33.25500</td>\n",
       "      <td>12</td>\n",
       "    </tr>\n",
       "    <tr>\n",
       "      <th>331483</th>\n",
       "      <td>33.25500</td>\n",
       "      <td>12</td>\n",
       "    </tr>\n",
       "    <tr>\n",
       "      <th>331484</th>\n",
       "      <td>33.25500</td>\n",
       "      <td>12</td>\n",
       "    </tr>\n",
       "    <tr>\n",
       "      <th>331485</th>\n",
       "      <td>33.25500</td>\n",
       "      <td>12</td>\n",
       "    </tr>\n",
       "    <tr>\n",
       "      <th>...</th>\n",
       "      <td>...</td>\n",
       "      <td>...</td>\n",
       "    </tr>\n",
       "    <tr>\n",
       "      <th>375692</th>\n",
       "      <td>30.02625</td>\n",
       "      <td>12</td>\n",
       "    </tr>\n",
       "    <tr>\n",
       "      <th>375693</th>\n",
       "      <td>30.02625</td>\n",
       "      <td>12</td>\n",
       "    </tr>\n",
       "    <tr>\n",
       "      <th>375694</th>\n",
       "      <td>30.02250</td>\n",
       "      <td>12</td>\n",
       "    </tr>\n",
       "    <tr>\n",
       "      <th>375695</th>\n",
       "      <td>30.02625</td>\n",
       "      <td>12</td>\n",
       "    </tr>\n",
       "    <tr>\n",
       "      <th>375696</th>\n",
       "      <td>0.15375</td>\n",
       "      <td>12</td>\n",
       "    </tr>\n",
       "  </tbody>\n",
       "</table>\n",
       "<p>43133 rows × 2 columns</p>\n",
       "</div>"
      ],
      "text/plain": [
       "             線速度  月份\n",
       "331481  33.25500  12\n",
       "331482  33.25500  12\n",
       "331483  33.25500  12\n",
       "331484  33.25500  12\n",
       "331485  33.25500  12\n",
       "...          ...  ..\n",
       "375692  30.02625  12\n",
       "375693  30.02625  12\n",
       "375694  30.02250  12\n",
       "375695  30.02625  12\n",
       "375696   0.15375  12\n",
       "\n",
       "[43133 rows x 2 columns]"
      ]
     },
     "execution_count": 27,
     "metadata": {},
     "output_type": "execute_result"
    }
   ],
   "source": [
    "speed_data[['線速度','月份']][speed_data['月份'] == 12]"
   ]
  },
  {
   "cell_type": "code",
   "execution_count": 28,
   "id": "7d338a0b",
   "metadata": {},
   "outputs": [
    {
     "name": "stderr",
     "output_type": "stream",
     "text": [
      "<ipython-input-28-761bc7ae98f6>:3: UserWarning: Boolean Series key will be reindexed to match DataFrame index.\n",
      "  v = speed_data[['線速度']][data['月份'] == x].mean().values\n",
      "<ipython-input-28-761bc7ae98f6>:3: UserWarning: Boolean Series key will be reindexed to match DataFrame index.\n",
      "  v = speed_data[['線速度']][data['月份'] == x].mean().values\n",
      "<ipython-input-28-761bc7ae98f6>:3: UserWarning: Boolean Series key will be reindexed to match DataFrame index.\n",
      "  v = speed_data[['線速度']][data['月份'] == x].mean().values\n",
      "<ipython-input-28-761bc7ae98f6>:3: UserWarning: Boolean Series key will be reindexed to match DataFrame index.\n",
      "  v = speed_data[['線速度']][data['月份'] == x].mean().values\n",
      "<ipython-input-28-761bc7ae98f6>:3: UserWarning: Boolean Series key will be reindexed to match DataFrame index.\n",
      "  v = speed_data[['線速度']][data['月份'] == x].mean().values\n",
      "<ipython-input-28-761bc7ae98f6>:3: UserWarning: Boolean Series key will be reindexed to match DataFrame index.\n",
      "  v = speed_data[['線速度']][data['月份'] == x].mean().values\n",
      "<ipython-input-28-761bc7ae98f6>:3: UserWarning: Boolean Series key will be reindexed to match DataFrame index.\n",
      "  v = speed_data[['線速度']][data['月份'] == x].mean().values\n",
      "<ipython-input-28-761bc7ae98f6>:3: UserWarning: Boolean Series key will be reindexed to match DataFrame index.\n",
      "  v = speed_data[['線速度']][data['月份'] == x].mean().values\n",
      "<ipython-input-28-761bc7ae98f6>:3: UserWarning: Boolean Series key will be reindexed to match DataFrame index.\n",
      "  v = speed_data[['線速度']][data['月份'] == x].mean().values\n",
      "<ipython-input-28-761bc7ae98f6>:3: UserWarning: Boolean Series key will be reindexed to match DataFrame index.\n",
      "  v = speed_data[['線速度']][data['月份'] == x].mean().values\n",
      "<ipython-input-28-761bc7ae98f6>:3: UserWarning: Boolean Series key will be reindexed to match DataFrame index.\n",
      "  v = speed_data[['線速度']][data['月份'] == x].mean().values\n",
      "<ipython-input-28-761bc7ae98f6>:3: UserWarning: Boolean Series key will be reindexed to match DataFrame index.\n",
      "  v = speed_data[['線速度']][data['月份'] == x].mean().values\n"
     ]
    }
   ],
   "source": [
    "speed_mean_month = []\n",
    "for x in range(1, 13):\n",
    "    v = speed_data[['線速度']][data['月份'] == x].mean().values\n",
    "    speed_mean_month.append(v)"
   ]
  },
  {
   "cell_type": "code",
   "execution_count": 29,
   "id": "af94d0bb",
   "metadata": {},
   "outputs": [],
   "source": [
    "speed_mean_month[1] = 0"
   ]
  },
  {
   "cell_type": "code",
   "execution_count": 30,
   "id": "da4f6718",
   "metadata": {},
   "outputs": [],
   "source": [
    "month = []\n",
    "for x in range(1,13):\n",
    "    month.append(x)"
   ]
  },
  {
   "cell_type": "code",
   "execution_count": 31,
   "id": "706bf820",
   "metadata": {},
   "outputs": [
    {
     "data": {
      "text/plain": [
       "[array([36.9469927]),\n",
       " 0,\n",
       " array([38.88787537]),\n",
       " array([37.70298048]),\n",
       " array([39.95311684]),\n",
       " array([38.135916]),\n",
       " array([36.5417151]),\n",
       " array([40.60064338]),\n",
       " array([38.81786899]),\n",
       " array([38.28083307]),\n",
       " array([37.81418521]),\n",
       " array([37.20082993])]"
      ]
     },
     "execution_count": 31,
     "metadata": {},
     "output_type": "execute_result"
    }
   ],
   "source": [
    "speed_mean_month"
   ]
  },
  {
   "cell_type": "code",
   "execution_count": 32,
   "id": "184ce85b",
   "metadata": {},
   "outputs": [],
   "source": [
    "month.remove(2)\n",
    "speed_mean_month.remove(0)"
   ]
  },
  {
   "cell_type": "code",
   "execution_count": 33,
   "id": "7fe9c5fb",
   "metadata": {},
   "outputs": [
    {
     "data": {
      "text/plain": [
       "[1, 3, 4, 5, 6, 7, 8, 9, 10, 11, 12]"
      ]
     },
     "execution_count": 33,
     "metadata": {},
     "output_type": "execute_result"
    }
   ],
   "source": [
    "month"
   ]
  },
  {
   "cell_type": "code",
   "execution_count": 34,
   "id": "27d543fe",
   "metadata": {},
   "outputs": [
    {
     "data": {
      "text/plain": [
       "[array([36.9469927]),\n",
       " array([38.88787537]),\n",
       " array([37.70298048]),\n",
       " array([39.95311684]),\n",
       " array([38.135916]),\n",
       " array([36.5417151]),\n",
       " array([40.60064338]),\n",
       " array([38.81786899]),\n",
       " array([38.28083307]),\n",
       " array([37.81418521]),\n",
       " array([37.20082993])]"
      ]
     },
     "execution_count": 34,
     "metadata": {},
     "output_type": "execute_result"
    }
   ],
   "source": [
    "speed_mean_month"
   ]
  },
  {
   "cell_type": "code",
   "execution_count": 35,
   "id": "9af38f8b",
   "metadata": {},
   "outputs": [
    {
     "name": "stderr",
     "output_type": "stream",
     "text": [
      "/opt/anaconda3/lib/python3.8/site-packages/matplotlib/backends/backend_agg.py:238: RuntimeWarning: Glyph 26376 missing from current font.\n",
      "  font.set_text(s, 0.0, flags=flags)\n",
      "/opt/anaconda3/lib/python3.8/site-packages/matplotlib/backends/backend_agg.py:238: RuntimeWarning: Glyph 20221 missing from current font.\n",
      "  font.set_text(s, 0.0, flags=flags)\n",
      "/opt/anaconda3/lib/python3.8/site-packages/matplotlib/backends/backend_agg.py:201: RuntimeWarning: Glyph 26376 missing from current font.\n",
      "  font.set_text(s, 0, flags=flags)\n",
      "/opt/anaconda3/lib/python3.8/site-packages/matplotlib/backends/backend_agg.py:201: RuntimeWarning: Glyph 20221 missing from current font.\n",
      "  font.set_text(s, 0, flags=flags)\n",
      "/opt/anaconda3/lib/python3.8/site-packages/matplotlib/backends/backend_agg.py:238: RuntimeWarning: Glyph 32218 missing from current font.\n",
      "  font.set_text(s, 0.0, flags=flags)\n",
      "/opt/anaconda3/lib/python3.8/site-packages/matplotlib/backends/backend_agg.py:238: RuntimeWarning: Glyph 36895 missing from current font.\n",
      "  font.set_text(s, 0.0, flags=flags)\n",
      "/opt/anaconda3/lib/python3.8/site-packages/matplotlib/backends/backend_agg.py:238: RuntimeWarning: Glyph 24230 missing from current font.\n",
      "  font.set_text(s, 0.0, flags=flags)\n",
      "/opt/anaconda3/lib/python3.8/site-packages/matplotlib/backends/backend_agg.py:201: RuntimeWarning: Glyph 32218 missing from current font.\n",
      "  font.set_text(s, 0, flags=flags)\n",
      "/opt/anaconda3/lib/python3.8/site-packages/matplotlib/backends/backend_agg.py:201: RuntimeWarning: Glyph 36895 missing from current font.\n",
      "  font.set_text(s, 0, flags=flags)\n",
      "/opt/anaconda3/lib/python3.8/site-packages/matplotlib/backends/backend_agg.py:201: RuntimeWarning: Glyph 24230 missing from current font.\n",
      "  font.set_text(s, 0, flags=flags)\n"
     ]
    },
    {
     "data": {
      "image/png": "[encoded data removed]",
      "text/plain": [
       "<Figure size 432x288 with 1 Axes>"
      ]
     },
     "metadata": {},
     "output_type": "display_data"
    }
   ],
   "source": [
    "plt.scatter(month, speed_mean_month)\n",
    "plt.ylabel('線速度')\n",
    "plt.xlabel('月份')\n",
    "plt.savefig('v_line.png', dpi = 500)"
   ]
  },
  {
   "cell_type": "code",
   "execution_count": 36,
   "id": "53391077",
   "metadata": {},
   "outputs": [
    {
     "data": {
      "image/png": "[encoded data removed]",
      "text/plain": [
       "<Figure size 432x288 with 1 Axes>"
      ]
     },
     "metadata": {},
     "output_type": "display_data"
    }
   ],
   "source": [
    "# plt.rcParams['font.family'] = 'Heiti TC'\n",
    "plt.plot(month, speed_mean_month, 'r')\n",
    "plt.ylabel('線速度')\n",
    "plt.xlabel('月份')\n",
    "plt.savefig('line_chart.png', dpi = 500)"
   ]
  },
  {
   "cell_type": "code",
   "execution_count": 37,
   "id": "8ac17124",
   "metadata": {},
   "outputs": [],
   "source": [
    "corr_data = df.drop(columns='自定義產線ID')"
   ]
  },
  {
   "cell_type": "code",
   "execution_count": 40,
   "id": "53bca506",
   "metadata": {},
   "outputs": [
    {
     "name": "stdout",
     "output_type": "stream",
     "text": [
      "<class 'pandas.core.frame.DataFrame'>\n",
      "RangeIndex: 376058 entries, 0 to 376057\n",
      "Data columns (total 18 columns):\n",
      " #   Column  Non-Null Count   Dtype         \n",
      "---  ------  --------------   -----         \n",
      " 0   日期      376058 non-null  datetime64[ns]\n",
      " 1   主螺桿溫度1  367377 non-null  float64       \n",
      " 2   主螺桿溫度2  367377 non-null  float64       \n",
      " 3   主螺桿溫度3  367377 non-null  float64       \n",
      " 4   主螺桿溫度4  367377 non-null  float64       \n",
      " 5   主螺桿溫度5  367377 non-null  float64       \n",
      " 6   主螺桿溫度6  367377 non-null  float64       \n",
      " 7   前輪轉數    367377 non-null  object        \n",
      " 8   中輪轉數    367377 non-null  object        \n",
      " 9   後輪轉數    367377 non-null  object        \n",
      " 10  厚度      266547 non-null  float64       \n",
      " 11  線速度     367377 non-null  object        \n",
      " 12  前輪電流    367377 non-null  object        \n",
      " 13  中輪電流    367377 non-null  object        \n",
      " 14  後輪電流    367377 non-null  object        \n",
      " 15  總電流     367377 non-null  float64       \n",
      " 16  總電壓     367377 non-null  float64       \n",
      " 17  總功率     367377 non-null  float64       \n",
      "dtypes: datetime64[ns](1), float64(10), object(7)\n",
      "memory usage: 51.6+ MB\n"
     ]
    }
   ],
   "source": [
    "corr_data.info()"
   ]
  },
  {
   "cell_type": "code",
   "execution_count": 46,
   "id": "4aa7a746",
   "metadata": {},
   "outputs": [],
   "source": [
    "corr_data['前輪轉數'] = corr_data['前輪轉數'].astype('float')\n",
    "corr_data['中輪轉數'] = corr_data['中輪轉數'].astype('float')\n",
    "corr_data['後輪轉數'] = corr_data['後輪轉數'].astype('float')\n",
    "corr_data['線速度'] = corr_data['線速度'].astype('float')\n",
    "corr_data['前輪電流'] = corr_data['前輪電流'].astype('float')\n",
    "corr_data['中輪電流'] = corr_data['中輪電流'].astype('float')\n",
    "corr_data['後輪電流'] = corr_data['後輪電流'].astype('float')"
   ]
  },
  {
   "cell_type": "code",
   "execution_count": 47,
   "id": "00b1739a",
   "metadata": {},
   "outputs": [
    {
     "name": "stdout",
     "output_type": "stream",
     "text": [
      "<class 'pandas.core.frame.DataFrame'>\n",
      "RangeIndex: 376058 entries, 0 to 376057\n",
      "Data columns (total 18 columns):\n",
      " #   Column  Non-Null Count   Dtype         \n",
      "---  ------  --------------   -----         \n",
      " 0   日期      376058 non-null  datetime64[ns]\n",
      " 1   主螺桿溫度1  367377 non-null  float64       \n",
      " 2   主螺桿溫度2  367377 non-null  float64       \n",
      " 3   主螺桿溫度3  367377 non-null  float64       \n",
      " 4   主螺桿溫度4  367377 non-null  float64       \n",
      " 5   主螺桿溫度5  367377 non-null  float64       \n",
      " 6   主螺桿溫度6  367377 non-null  float64       \n",
      " 7   前輪轉數    367377 non-null  float64       \n",
      " 8   中輪轉數    367377 non-null  float64       \n",
      " 9   後輪轉數    367377 non-null  float64       \n",
      " 10  厚度      266547 non-null  float64       \n",
      " 11  線速度     367377 non-null  float64       \n",
      " 12  前輪電流    367377 non-null  float64       \n",
      " 13  中輪電流    367377 non-null  float64       \n",
      " 14  後輪電流    367377 non-null  float64       \n",
      " 15  總電流     367377 non-null  float64       \n",
      " 16  總電壓     367377 non-null  float64       \n",
      " 17  總功率     367377 non-null  float64       \n",
      "dtypes: datetime64[ns](1), float64(17)\n",
      "memory usage: 51.6 MB\n"
     ]
    }
   ],
   "source": [
    "corr_data.info()"
   ]
  },
  {
   "cell_type": "code",
   "execution_count": 50,
   "id": "a947dfe2",
   "metadata": {},
   "outputs": [
    {
     "data": {
      "image/png": "[encoded data removed]",
      "text/plain": [
       "<Figure size 1152x1152 with 2 Axes>"
      ]
     },
     "metadata": {},
     "output_type": "display_data"
    }
   ],
   "source": [
    "plt.rcParams['font.family'] = 'Heiti TC'\n",
    "plt.figure(figsize=(16, 16))\n",
    "correlation= corr_data.corr()\n",
    "sns.heatmap(correlation,annot=True)\n",
    "plt.savefig('corr_column.png', dpi = 500)"
   ]
  },
  {
   "cell_type": "markdown",
   "id": "8cccbebe",
   "metadata": {},
   "source": [
    "## 斷開連線"
   ]
  },
  {
   "cell_type": "code",
   "execution_count": 48,
   "id": "a2753049",
   "metadata": {},
   "outputs": [],
   "source": [
    "cursor.close()\n",
    "conn.close()"
   ]
  },
  {
   "cell_type": "code",
   "execution_count": null,
   "id": "ecb1cf17",
   "metadata": {},
   "outputs": [],
   "source": [
    "# 每個月溫度的異常統計"
   ]
  }
 ],
 "metadata": {
  "kernelspec": {
   "display_name": "Python 3",
   "language": "python",
   "name": "python3"
  },
  "language_info": {
   "codemirror_mode": {
    "name": "ipython",
    "version": 3
   },
   "file_extension": ".py",
   "mimetype": "text/x-python",
   "name": "python",
   "nbconvert_exporter": "python",
   "pygments_lexer": "ipython3",
   "version": "3.8.8"
  }
 },
 "nbformat": 4,
 "nbformat_minor": 5
}
