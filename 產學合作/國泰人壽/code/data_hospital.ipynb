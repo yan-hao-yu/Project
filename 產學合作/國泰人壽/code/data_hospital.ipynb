{
  "nbformat": 4,
  "nbformat_minor": 0,
  "metadata": {
    "kernelspec": {
      "display_name": "Python 3",
      "language": "python",
      "name": "python3"
    },
    "language_info": {
      "codemirror_mode": {
        "name": "ipython",
        "version": 3
      },
      "file_extension": ".py",
      "mimetype": "text/x-python",
      "name": "python",
      "nbconvert_exporter": "python",
      "pygments_lexer": "ipython3",
      "version": "3.8.5"
    },
    "colab": {
      "name": "data_hospital.ipynb",
      "provenance": []
    }
  },
  "cells": [
    {
      "cell_type": "code",
      "metadata": {
        "id": "le6EMU2Af1Zy"
      },
      "source": [
        "import pandas as pd\n",
        "import matplotlib.pyplot as plt\n",
        "import numpy as np\n",
        "import copy"
      ],
      "execution_count": null,
      "outputs": []
    },
    {
      "cell_type": "markdown",
      "metadata": {
        "id": "DwXJzM2Mf1aG"
      },
      "source": [
        "### data preprocessing & EDA"
      ]
    },
    {
      "cell_type": "code",
      "metadata": {
        "id": "A9w0pTm_f1aH"
      },
      "source": [
        "df = pd.read_excel(r'醫院.xlsx')"
      ],
      "execution_count": null,
      "outputs": []
    },
    {
      "cell_type": "code",
      "metadata": {
        "id": "0apwvfZUf1aI"
      },
      "source": [
        "df = pd.get_dummies(df, columns=['關係別','性別'])"
      ],
      "execution_count": null,
      "outputs": []
    },
    {
      "cell_type": "code",
      "metadata": {
        "scrolled": true,
        "id": "1VizJ3yIf1aM",
        "outputId": "7d8d8f0c-ee0f-4c49-efae-ceedad58acd7"
      },
      "source": [
        "df"
      ],
      "execution_count": null,
      "outputs": [
        {
          "output_type": "execute_result",
          "data": {
            "text/html": [
              "<div>\n",
              "<style scoped>\n",
              "    .dataframe tbody tr th:only-of-type {\n",
              "        vertical-align: middle;\n",
              "    }\n",
              "\n",
              "    .dataframe tbody tr th {\n",
              "        vertical-align: top;\n",
              "    }\n",
              "\n",
              "    .dataframe thead th {\n",
              "        text-align: right;\n",
              "    }\n",
              "</style>\n",
              "<table border=\"1\" class=\"dataframe\">\n",
              "  <thead>\n",
              "    <tr style=\"text-align: right;\">\n",
              "      <th></th>\n",
              "      <th>員工ID</th>\n",
              "      <th>被保人ID</th>\n",
              "      <th>年齡</th>\n",
              "      <th>關係別_本人</th>\n",
              "      <th>關係別_配偶</th>\n",
              "      <th>性別_1</th>\n",
              "      <th>性別_2</th>\n",
              "    </tr>\n",
              "  </thead>\n",
              "  <tbody>\n",
              "    <tr>\n",
              "      <th>0</th>\n",
              "      <td>G2EC9548DD9324C41D</td>\n",
              "      <td>G2EC9548DD9324C41D</td>\n",
              "      <td>39</td>\n",
              "      <td>1</td>\n",
              "      <td>0</td>\n",
              "      <td>0</td>\n",
              "      <td>1</td>\n",
              "    </tr>\n",
              "    <tr>\n",
              "      <th>1</th>\n",
              "      <td>A128D2E625E77D3151</td>\n",
              "      <td>A128D2E625E77D3151</td>\n",
              "      <td>37</td>\n",
              "      <td>1</td>\n",
              "      <td>0</td>\n",
              "      <td>1</td>\n",
              "      <td>0</td>\n",
              "    </tr>\n",
              "    <tr>\n",
              "      <th>2</th>\n",
              "      <td>H2EB491500F735632E</td>\n",
              "      <td>H2EB491500F735632E</td>\n",
              "      <td>25</td>\n",
              "      <td>1</td>\n",
              "      <td>0</td>\n",
              "      <td>0</td>\n",
              "      <td>1</td>\n",
              "    </tr>\n",
              "    <tr>\n",
              "      <th>3</th>\n",
              "      <td>J2BA996344D73F4115</td>\n",
              "      <td>J2BA996344D73F4115</td>\n",
              "      <td>45</td>\n",
              "      <td>1</td>\n",
              "      <td>0</td>\n",
              "      <td>0</td>\n",
              "      <td>1</td>\n",
              "    </tr>\n",
              "    <tr>\n",
              "      <th>4</th>\n",
              "      <td>F248984777D351DDE7</td>\n",
              "      <td>F248984777D351DDE7</td>\n",
              "      <td>42</td>\n",
              "      <td>1</td>\n",
              "      <td>0</td>\n",
              "      <td>0</td>\n",
              "      <td>1</td>\n",
              "    </tr>\n",
              "    <tr>\n",
              "      <th>...</th>\n",
              "      <td>...</td>\n",
              "      <td>...</td>\n",
              "      <td>...</td>\n",
              "      <td>...</td>\n",
              "      <td>...</td>\n",
              "      <td>...</td>\n",
              "      <td>...</td>\n",
              "    </tr>\n",
              "    <tr>\n",
              "      <th>8407</th>\n",
              "      <td>A24A0787B4C89B8150</td>\n",
              "      <td>A24A0787B4C89B8150</td>\n",
              "      <td>23</td>\n",
              "      <td>1</td>\n",
              "      <td>0</td>\n",
              "      <td>0</td>\n",
              "      <td>1</td>\n",
              "    </tr>\n",
              "    <tr>\n",
              "      <th>8408</th>\n",
              "      <td>F29306F39B5AB0C316</td>\n",
              "      <td>F29306F39B5AB0C316</td>\n",
              "      <td>38</td>\n",
              "      <td>1</td>\n",
              "      <td>0</td>\n",
              "      <td>0</td>\n",
              "      <td>1</td>\n",
              "    </tr>\n",
              "    <tr>\n",
              "      <th>8409</th>\n",
              "      <td>K22687CC13657662CB</td>\n",
              "      <td>K22687CC13657662CB</td>\n",
              "      <td>37</td>\n",
              "      <td>1</td>\n",
              "      <td>0</td>\n",
              "      <td>0</td>\n",
              "      <td>1</td>\n",
              "    </tr>\n",
              "    <tr>\n",
              "      <th>8410</th>\n",
              "      <td>F2E549DDE150612569</td>\n",
              "      <td>F2E549DDE150612569</td>\n",
              "      <td>23</td>\n",
              "      <td>1</td>\n",
              "      <td>0</td>\n",
              "      <td>0</td>\n",
              "      <td>1</td>\n",
              "    </tr>\n",
              "    <tr>\n",
              "      <th>8411</th>\n",
              "      <td>N215C6C37D3C34D8D0</td>\n",
              "      <td>N215C6C37D3C34D8D0</td>\n",
              "      <td>66</td>\n",
              "      <td>1</td>\n",
              "      <td>0</td>\n",
              "      <td>0</td>\n",
              "      <td>1</td>\n",
              "    </tr>\n",
              "  </tbody>\n",
              "</table>\n",
              "<p>8412 rows × 7 columns</p>\n",
              "</div>"
            ],
            "text/plain": [
              "                    員工ID               被保人ID  年齡  關係別_本人  關係別_配偶  性別_1  性別_2\n",
              "0     G2EC9548DD9324C41D  G2EC9548DD9324C41D  39       1       0     0     1\n",
              "1     A128D2E625E77D3151  A128D2E625E77D3151  37       1       0     1     0\n",
              "2     H2EB491500F735632E  H2EB491500F735632E  25       1       0     0     1\n",
              "3     J2BA996344D73F4115  J2BA996344D73F4115  45       1       0     0     1\n",
              "4     F248984777D351DDE7  F248984777D351DDE7  42       1       0     0     1\n",
              "...                  ...                 ...  ..     ...     ...   ...   ...\n",
              "8407  A24A0787B4C89B8150  A24A0787B4C89B8150  23       1       0     0     1\n",
              "8408  F29306F39B5AB0C316  F29306F39B5AB0C316  38       1       0     0     1\n",
              "8409  K22687CC13657662CB  K22687CC13657662CB  37       1       0     0     1\n",
              "8410  F2E549DDE150612569  F2E549DDE150612569  23       1       0     0     1\n",
              "8411  N215C6C37D3C34D8D0  N215C6C37D3C34D8D0  66       1       0     0     1\n",
              "\n",
              "[8412 rows x 7 columns]"
            ]
          },
          "metadata": {
            "tags": []
          },
          "execution_count": 5
        }
      ]
    },
    {
      "cell_type": "code",
      "metadata": {
        "id": "Ky4CpfvFf1aO"
      },
      "source": [
        "df_woid = df.drop(['員工ID','被保人ID'], axis=1)"
      ],
      "execution_count": null,
      "outputs": []
    },
    {
      "cell_type": "code",
      "metadata": {
        "scrolled": true,
        "id": "02jzbWvAf1aP",
        "outputId": "05e9ba5c-56e7-45be-e6b0-a2816410afc1"
      },
      "source": [
        "df_woid"
      ],
      "execution_count": null,
      "outputs": [
        {
          "output_type": "execute_result",
          "data": {
            "text/html": [
              "<div>\n",
              "<style scoped>\n",
              "    .dataframe tbody tr th:only-of-type {\n",
              "        vertical-align: middle;\n",
              "    }\n",
              "\n",
              "    .dataframe tbody tr th {\n",
              "        vertical-align: top;\n",
              "    }\n",
              "\n",
              "    .dataframe thead th {\n",
              "        text-align: right;\n",
              "    }\n",
              "</style>\n",
              "<table border=\"1\" class=\"dataframe\">\n",
              "  <thead>\n",
              "    <tr style=\"text-align: right;\">\n",
              "      <th></th>\n",
              "      <th>年齡</th>\n",
              "      <th>關係別_本人</th>\n",
              "      <th>關係別_配偶</th>\n",
              "      <th>性別_1</th>\n",
              "      <th>性別_2</th>\n",
              "    </tr>\n",
              "  </thead>\n",
              "  <tbody>\n",
              "    <tr>\n",
              "      <th>0</th>\n",
              "      <td>39</td>\n",
              "      <td>1</td>\n",
              "      <td>0</td>\n",
              "      <td>0</td>\n",
              "      <td>1</td>\n",
              "    </tr>\n",
              "    <tr>\n",
              "      <th>1</th>\n",
              "      <td>37</td>\n",
              "      <td>1</td>\n",
              "      <td>0</td>\n",
              "      <td>1</td>\n",
              "      <td>0</td>\n",
              "    </tr>\n",
              "    <tr>\n",
              "      <th>2</th>\n",
              "      <td>25</td>\n",
              "      <td>1</td>\n",
              "      <td>0</td>\n",
              "      <td>0</td>\n",
              "      <td>1</td>\n",
              "    </tr>\n",
              "    <tr>\n",
              "      <th>3</th>\n",
              "      <td>45</td>\n",
              "      <td>1</td>\n",
              "      <td>0</td>\n",
              "      <td>0</td>\n",
              "      <td>1</td>\n",
              "    </tr>\n",
              "    <tr>\n",
              "      <th>4</th>\n",
              "      <td>42</td>\n",
              "      <td>1</td>\n",
              "      <td>0</td>\n",
              "      <td>0</td>\n",
              "      <td>1</td>\n",
              "    </tr>\n",
              "    <tr>\n",
              "      <th>...</th>\n",
              "      <td>...</td>\n",
              "      <td>...</td>\n",
              "      <td>...</td>\n",
              "      <td>...</td>\n",
              "      <td>...</td>\n",
              "    </tr>\n",
              "    <tr>\n",
              "      <th>8407</th>\n",
              "      <td>23</td>\n",
              "      <td>1</td>\n",
              "      <td>0</td>\n",
              "      <td>0</td>\n",
              "      <td>1</td>\n",
              "    </tr>\n",
              "    <tr>\n",
              "      <th>8408</th>\n",
              "      <td>38</td>\n",
              "      <td>1</td>\n",
              "      <td>0</td>\n",
              "      <td>0</td>\n",
              "      <td>1</td>\n",
              "    </tr>\n",
              "    <tr>\n",
              "      <th>8409</th>\n",
              "      <td>37</td>\n",
              "      <td>1</td>\n",
              "      <td>0</td>\n",
              "      <td>0</td>\n",
              "      <td>1</td>\n",
              "    </tr>\n",
              "    <tr>\n",
              "      <th>8410</th>\n",
              "      <td>23</td>\n",
              "      <td>1</td>\n",
              "      <td>0</td>\n",
              "      <td>0</td>\n",
              "      <td>1</td>\n",
              "    </tr>\n",
              "    <tr>\n",
              "      <th>8411</th>\n",
              "      <td>66</td>\n",
              "      <td>1</td>\n",
              "      <td>0</td>\n",
              "      <td>0</td>\n",
              "      <td>1</td>\n",
              "    </tr>\n",
              "  </tbody>\n",
              "</table>\n",
              "<p>8412 rows × 5 columns</p>\n",
              "</div>"
            ],
            "text/plain": [
              "      年齡  關係別_本人  關係別_配偶  性別_1  性別_2\n",
              "0     39       1       0     0     1\n",
              "1     37       1       0     1     0\n",
              "2     25       1       0     0     1\n",
              "3     45       1       0     0     1\n",
              "4     42       1       0     0     1\n",
              "...   ..     ...     ...   ...   ...\n",
              "8407  23       1       0     0     1\n",
              "8408  38       1       0     0     1\n",
              "8409  37       1       0     0     1\n",
              "8410  23       1       0     0     1\n",
              "8411  66       1       0     0     1\n",
              "\n",
              "[8412 rows x 5 columns]"
            ]
          },
          "metadata": {
            "tags": []
          },
          "execution_count": 7
        }
      ]
    },
    {
      "cell_type": "markdown",
      "metadata": {
        "id": "BPalup3Jf1aP"
      },
      "source": [
        "#### summary"
      ]
    },
    {
      "cell_type": "code",
      "metadata": {
        "scrolled": true,
        "id": "6PGaoKbSf1aQ",
        "outputId": "aa8a60cd-6209-4cee-8c3b-b4742ed96533"
      },
      "source": [
        "df.describe()"
      ],
      "execution_count": null,
      "outputs": [
        {
          "output_type": "execute_result",
          "data": {
            "text/html": [
              "<div>\n",
              "<style scoped>\n",
              "    .dataframe tbody tr th:only-of-type {\n",
              "        vertical-align: middle;\n",
              "    }\n",
              "\n",
              "    .dataframe tbody tr th {\n",
              "        vertical-align: top;\n",
              "    }\n",
              "\n",
              "    .dataframe thead th {\n",
              "        text-align: right;\n",
              "    }\n",
              "</style>\n",
              "<table border=\"1\" class=\"dataframe\">\n",
              "  <thead>\n",
              "    <tr style=\"text-align: right;\">\n",
              "      <th></th>\n",
              "      <th>年齡</th>\n",
              "      <th>關係別_本人</th>\n",
              "      <th>關係別_配偶</th>\n",
              "      <th>性別_1</th>\n",
              "      <th>性別_2</th>\n",
              "    </tr>\n",
              "  </thead>\n",
              "  <tbody>\n",
              "    <tr>\n",
              "      <th>count</th>\n",
              "      <td>8412.000000</td>\n",
              "      <td>8412.000000</td>\n",
              "      <td>8412.000000</td>\n",
              "      <td>8412.000000</td>\n",
              "      <td>8412.000000</td>\n",
              "    </tr>\n",
              "    <tr>\n",
              "      <th>mean</th>\n",
              "      <td>38.611983</td>\n",
              "      <td>0.995602</td>\n",
              "      <td>0.004398</td>\n",
              "      <td>0.233238</td>\n",
              "      <td>0.766762</td>\n",
              "    </tr>\n",
              "    <tr>\n",
              "      <th>std</th>\n",
              "      <td>12.923522</td>\n",
              "      <td>0.066179</td>\n",
              "      <td>0.066179</td>\n",
              "      <td>0.422918</td>\n",
              "      <td>0.422918</td>\n",
              "    </tr>\n",
              "    <tr>\n",
              "      <th>min</th>\n",
              "      <td>4.000000</td>\n",
              "      <td>0.000000</td>\n",
              "      <td>0.000000</td>\n",
              "      <td>0.000000</td>\n",
              "      <td>0.000000</td>\n",
              "    </tr>\n",
              "    <tr>\n",
              "      <th>25%</th>\n",
              "      <td>27.000000</td>\n",
              "      <td>1.000000</td>\n",
              "      <td>0.000000</td>\n",
              "      <td>0.000000</td>\n",
              "      <td>1.000000</td>\n",
              "    </tr>\n",
              "    <tr>\n",
              "      <th>50%</th>\n",
              "      <td>37.000000</td>\n",
              "      <td>1.000000</td>\n",
              "      <td>0.000000</td>\n",
              "      <td>0.000000</td>\n",
              "      <td>1.000000</td>\n",
              "    </tr>\n",
              "    <tr>\n",
              "      <th>75%</th>\n",
              "      <td>48.000000</td>\n",
              "      <td>1.000000</td>\n",
              "      <td>0.000000</td>\n",
              "      <td>0.000000</td>\n",
              "      <td>1.000000</td>\n",
              "    </tr>\n",
              "    <tr>\n",
              "      <th>max</th>\n",
              "      <td>82.000000</td>\n",
              "      <td>1.000000</td>\n",
              "      <td>1.000000</td>\n",
              "      <td>1.000000</td>\n",
              "      <td>1.000000</td>\n",
              "    </tr>\n",
              "  </tbody>\n",
              "</table>\n",
              "</div>"
            ],
            "text/plain": [
              "                年齡       關係別_本人       關係別_配偶         性別_1         性別_2\n",
              "count  8412.000000  8412.000000  8412.000000  8412.000000  8412.000000\n",
              "mean     38.611983     0.995602     0.004398     0.233238     0.766762\n",
              "std      12.923522     0.066179     0.066179     0.422918     0.422918\n",
              "min       4.000000     0.000000     0.000000     0.000000     0.000000\n",
              "25%      27.000000     1.000000     0.000000     0.000000     1.000000\n",
              "50%      37.000000     1.000000     0.000000     0.000000     1.000000\n",
              "75%      48.000000     1.000000     0.000000     0.000000     1.000000\n",
              "max      82.000000     1.000000     1.000000     1.000000     1.000000"
            ]
          },
          "metadata": {
            "tags": []
          },
          "execution_count": 8
        }
      ]
    },
    {
      "cell_type": "markdown",
      "metadata": {
        "id": "qvHuwxXlf1aR"
      },
      "source": [
        "#### correlation of relationship, years, and sex"
      ]
    },
    {
      "cell_type": "code",
      "metadata": {
        "id": "ylxotZOff1aR"
      },
      "source": [
        "data = df_woid.to_numpy()"
      ],
      "execution_count": null,
      "outputs": []
    },
    {
      "cell_type": "code",
      "metadata": {
        "scrolled": true,
        "id": "x1ll6ejkf1aR",
        "outputId": "f3f03302-3c93-4204-8471-5119ae690e2b"
      },
      "source": [
        "data"
      ],
      "execution_count": null,
      "outputs": [
        {
          "output_type": "execute_result",
          "data": {
            "text/plain": [
              "array([[39,  1,  0,  0,  1],\n",
              "       [37,  1,  0,  1,  0],\n",
              "       [25,  1,  0,  0,  1],\n",
              "       ...,\n",
              "       [37,  1,  0,  0,  1],\n",
              "       [23,  1,  0,  0,  1],\n",
              "       [66,  1,  0,  0,  1]], dtype=int64)"
            ]
          },
          "metadata": {
            "tags": []
          },
          "execution_count": 10
        }
      ]
    },
    {
      "cell_type": "code",
      "metadata": {
        "id": "D4XDWh4Hf1aU",
        "outputId": "6180664a-018a-43a5-93f1-dfb41e0d797d"
      },
      "source": [
        "np.corrcoef(data.T)"
      ],
      "execution_count": null,
      "outputs": [
        {
          "output_type": "execute_result",
          "data": {
            "text/plain": [
              "array([[ 1.        , -0.13016462,  0.13016462,  0.1399857 , -0.1399857 ],\n",
              "       [-0.13016462,  1.        , -1.        , -0.09502683,  0.09502683],\n",
              "       [ 0.13016462, -1.        ,  1.        ,  0.09502683, -0.09502683],\n",
              "       [ 0.1399857 , -0.09502683,  0.09502683,  1.        , -1.        ],\n",
              "       [-0.1399857 ,  0.09502683, -0.09502683, -1.        ,  1.        ]])"
            ]
          },
          "metadata": {
            "tags": []
          },
          "execution_count": 11
        }
      ]
    },
    {
      "cell_type": "markdown",
      "metadata": {
        "id": "4_7Yaavbf1aV"
      },
      "source": [
        "### modeling or clustering "
      ]
    },
    {
      "cell_type": "markdown",
      "metadata": {
        "id": "5jz_3t4Rf1aX"
      },
      "source": [
        "#### logistic regression"
      ]
    },
    {
      "cell_type": "code",
      "metadata": {
        "id": "ZXs-Fp1Of1aX"
      },
      "source": [
        "from sklearn.linear_model import LogisticRegression"
      ],
      "execution_count": null,
      "outputs": []
    },
    {
      "cell_type": "markdown",
      "metadata": {
        "id": "cJwTf54Wf1aY"
      },
      "source": [
        "#### k means"
      ]
    },
    {
      "cell_type": "code",
      "metadata": {
        "id": "oG4I0Eyrf1aY"
      },
      "source": [
        "from sklearn.cluster import KMeans"
      ],
      "execution_count": null,
      "outputs": []
    },
    {
      "cell_type": "code",
      "metadata": {
        "id": "SXpPRhGQf1ac"
      },
      "source": [
        "kmeans = KMeans(n_clusters = 3)"
      ],
      "execution_count": null,
      "outputs": []
    },
    {
      "cell_type": "code",
      "metadata": {
        "id": "2jCl8DDaf1ac",
        "outputId": "721c3b17-fcac-49f3-ffda-b8216c96ca47"
      },
      "source": [
        "kmeans.fit(df_woid)"
      ],
      "execution_count": null,
      "outputs": [
        {
          "output_type": "execute_result",
          "data": {
            "text/plain": [
              "KMeans(n_clusters=3)"
            ]
          },
          "metadata": {
            "tags": []
          },
          "execution_count": 15
        }
      ]
    },
    {
      "cell_type": "code",
      "metadata": {
        "id": "p0ZLILQJf1ad"
      },
      "source": [
        "labels = kmeans.predict(df_woid)\n",
        "centroids = kmeans.cluster_centers_"
      ],
      "execution_count": null,
      "outputs": []
    },
    {
      "cell_type": "code",
      "metadata": {
        "id": "YvS0wz6ff1ad",
        "outputId": "2dda70ea-7f3e-4aa5-ad4c-0d25ab18b735"
      },
      "source": [
        "\"\"\"\n",
        "fig = plt.figure(figsize=(5, 5))\n",
        "\n",
        "#colors = map(lambda x: colmap[x+1], labels)\n",
        "\n",
        "plt.scatter(df_woid['年齡'], df_woid['關係別_配偶'], alpha=0.5, edgecolor='k')\n",
        "for idx, centroid in enumerate(centroids):\n",
        "    plt.scatter(*centroid)\n",
        "plt.xlim(0, 100)\n",
        "plt.ylim(0, 100)\n",
        "plt.show\n",
        "\"\"\""
      ],
      "execution_count": null,
      "outputs": [
        {
          "output_type": "execute_result",
          "data": {
            "text/plain": [
              "\"\\nfig = plt.figure(figsize=(5, 5))\\n\\n#colors = map(lambda x: colmap[x+1], labels)\\n\\nplt.scatter(df_woid['年齡'], df_woid['關係別_配偶'], alpha=0.5, edgecolor='k')\\nfor idx, centroid in enumerate(centroids):\\n    plt.scatter(*centroid)\\nplt.xlim(0, 100)\\nplt.ylim(0, 100)\\nplt.show\\n\""
            ]
          },
          "metadata": {
            "tags": []
          },
          "execution_count": 17
        }
      ]
    }
  ]
}