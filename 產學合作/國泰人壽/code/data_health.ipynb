{
  "nbformat": 4,
  "nbformat_minor": 0,
  "metadata": {
    "kernelspec": {
      "display_name": "Python 3",
      "language": "python",
      "name": "python3"
    },
    "language_info": {
      "codemirror_mode": {
        "name": "ipython",
        "version": 3
      },
      "file_extension": ".py",
      "mimetype": "text/x-python",
      "name": "python",
      "nbconvert_exporter": "python",
      "pygments_lexer": "ipython3",
      "version": "3.8.5"
    },
    "colab": {
      "name": "data_health.ipynb",
      "provenance": []
    }
  },
  "cells": [
    {
      "cell_type": "code",
      "metadata": {
        "id": "3d5nxMhFtsVh"
      },
      "source": [
        "import pandas as pd\n",
        "import matplotlib.pyplot as plt\n",
        "import numpy as np\n",
        "import copy"
      ],
      "execution_count": null,
      "outputs": []
    },
    {
      "cell_type": "markdown",
      "metadata": {
        "id": "Dk2HOSE5tsVx"
      },
      "source": [
        "### data preprocessing & EDA"
      ]
    },
    {
      "cell_type": "code",
      "metadata": {
        "id": "WjHCFeO0tsVz"
      },
      "source": [
        "df = pd.read_excel(r'健管.xlsx')"
      ],
      "execution_count": null,
      "outputs": []
    },
    {
      "cell_type": "code",
      "metadata": {
        "id": "C1WFHIhAtsV0"
      },
      "source": [
        "df = df.drop(['Unnamed: 5','Unnamed: 6','Unnamed: 7','Unnamed: 8'], axis=1)"
      ],
      "execution_count": null,
      "outputs": []
    },
    {
      "cell_type": "code",
      "metadata": {
        "id": "NGWjZbZNtsV0"
      },
      "source": [
        "df = pd.get_dummies(df, columns=['關係別','性別'])"
      ],
      "execution_count": null,
      "outputs": []
    },
    {
      "cell_type": "code",
      "metadata": {
        "scrolled": true,
        "id": "DuDpiGFUtsV1",
        "outputId": "7d0f1e2c-9bfd-4570-ccb1-c086e0b1292e"
      },
      "source": [
        "df"
      ],
      "execution_count": null,
      "outputs": [
        {
          "output_type": "execute_result",
          "data": {
            "text/html": [
              "<div>\n",
              "<style scoped>\n",
              "    .dataframe tbody tr th:only-of-type {\n",
              "        vertical-align: middle;\n",
              "    }\n",
              "\n",
              "    .dataframe tbody tr th {\n",
              "        vertical-align: top;\n",
              "    }\n",
              "\n",
              "    .dataframe thead th {\n",
              "        text-align: right;\n",
              "    }\n",
              "</style>\n",
              "<table border=\"1\" class=\"dataframe\">\n",
              "  <thead>\n",
              "    <tr style=\"text-align: right;\">\n",
              "      <th></th>\n",
              "      <th>員工ID</th>\n",
              "      <th>被保人ID</th>\n",
              "      <th>年齡</th>\n",
              "      <th>關係別_子女</th>\n",
              "      <th>關係別_本人</th>\n",
              "      <th>關係別_父母</th>\n",
              "      <th>關係別_配偶</th>\n",
              "      <th>性別_1</th>\n",
              "      <th>性別_2</th>\n",
              "    </tr>\n",
              "  </thead>\n",
              "  <tbody>\n",
              "    <tr>\n",
              "      <th>0</th>\n",
              "      <td>A2AC2804FA82870725</td>\n",
              "      <td>A2AC2804FA82870725</td>\n",
              "      <td>32</td>\n",
              "      <td>0</td>\n",
              "      <td>1</td>\n",
              "      <td>0</td>\n",
              "      <td>0</td>\n",
              "      <td>0</td>\n",
              "      <td>1</td>\n",
              "    </tr>\n",
              "    <tr>\n",
              "      <th>1</th>\n",
              "      <td>A22694C3894C843E31</td>\n",
              "      <td>A2ACAD4EDF4381D1ED</td>\n",
              "      <td>60</td>\n",
              "      <td>0</td>\n",
              "      <td>0</td>\n",
              "      <td>1</td>\n",
              "      <td>0</td>\n",
              "      <td>0</td>\n",
              "      <td>1</td>\n",
              "    </tr>\n",
              "    <tr>\n",
              "      <th>2</th>\n",
              "      <td>K2529CAE2A8E26BC1A</td>\n",
              "      <td>K2529CAE2A8E26BC1A</td>\n",
              "      <td>34</td>\n",
              "      <td>0</td>\n",
              "      <td>1</td>\n",
              "      <td>0</td>\n",
              "      <td>0</td>\n",
              "      <td>0</td>\n",
              "      <td>1</td>\n",
              "    </tr>\n",
              "    <tr>\n",
              "      <th>3</th>\n",
              "      <td>A2C83115FC866BDD93</td>\n",
              "      <td>A2C83115FC866BDD93</td>\n",
              "      <td>29</td>\n",
              "      <td>0</td>\n",
              "      <td>1</td>\n",
              "      <td>0</td>\n",
              "      <td>0</td>\n",
              "      <td>0</td>\n",
              "      <td>1</td>\n",
              "    </tr>\n",
              "    <tr>\n",
              "      <th>4</th>\n",
              "      <td>O2D4BD76C739700FDB</td>\n",
              "      <td>O2D4BD76C739700FDB</td>\n",
              "      <td>24</td>\n",
              "      <td>0</td>\n",
              "      <td>1</td>\n",
              "      <td>0</td>\n",
              "      <td>0</td>\n",
              "      <td>0</td>\n",
              "      <td>1</td>\n",
              "    </tr>\n",
              "    <tr>\n",
              "      <th>...</th>\n",
              "      <td>...</td>\n",
              "      <td>...</td>\n",
              "      <td>...</td>\n",
              "      <td>...</td>\n",
              "      <td>...</td>\n",
              "      <td>...</td>\n",
              "      <td>...</td>\n",
              "      <td>...</td>\n",
              "      <td>...</td>\n",
              "    </tr>\n",
              "    <tr>\n",
              "      <th>246</th>\n",
              "      <td>A25F639D461B18F68E</td>\n",
              "      <td>A25F639D461B18F68E</td>\n",
              "      <td>29</td>\n",
              "      <td>0</td>\n",
              "      <td>1</td>\n",
              "      <td>0</td>\n",
              "      <td>0</td>\n",
              "      <td>0</td>\n",
              "      <td>1</td>\n",
              "    </tr>\n",
              "    <tr>\n",
              "      <th>247</th>\n",
              "      <td>D2801FC5B243A74402</td>\n",
              "      <td>D2801FC5B243A74402</td>\n",
              "      <td>27</td>\n",
              "      <td>0</td>\n",
              "      <td>1</td>\n",
              "      <td>0</td>\n",
              "      <td>0</td>\n",
              "      <td>0</td>\n",
              "      <td>1</td>\n",
              "    </tr>\n",
              "    <tr>\n",
              "      <th>248</th>\n",
              "      <td>S2577A2534491E41C4</td>\n",
              "      <td>S2577A2534491E41C4</td>\n",
              "      <td>25</td>\n",
              "      <td>0</td>\n",
              "      <td>1</td>\n",
              "      <td>0</td>\n",
              "      <td>0</td>\n",
              "      <td>0</td>\n",
              "      <td>1</td>\n",
              "    </tr>\n",
              "    <tr>\n",
              "      <th>249</th>\n",
              "      <td>Q230531C73A76FCC96</td>\n",
              "      <td>Q230531C73A76FCC96</td>\n",
              "      <td>40</td>\n",
              "      <td>0</td>\n",
              "      <td>1</td>\n",
              "      <td>0</td>\n",
              "      <td>0</td>\n",
              "      <td>0</td>\n",
              "      <td>1</td>\n",
              "    </tr>\n",
              "    <tr>\n",
              "      <th>250</th>\n",
              "      <td>A2CC34AACCF7BF73FB</td>\n",
              "      <td>A2CC34AACCF7BF73FB</td>\n",
              "      <td>30</td>\n",
              "      <td>0</td>\n",
              "      <td>1</td>\n",
              "      <td>0</td>\n",
              "      <td>0</td>\n",
              "      <td>0</td>\n",
              "      <td>1</td>\n",
              "    </tr>\n",
              "  </tbody>\n",
              "</table>\n",
              "<p>251 rows × 9 columns</p>\n",
              "</div>"
            ],
            "text/plain": [
              "                   員工ID               被保人ID  年齡  關係別_子女  關係別_本人  關係別_父母  \\\n",
              "0    A2AC2804FA82870725  A2AC2804FA82870725  32       0       1       0   \n",
              "1    A22694C3894C843E31  A2ACAD4EDF4381D1ED  60       0       0       1   \n",
              "2    K2529CAE2A8E26BC1A  K2529CAE2A8E26BC1A  34       0       1       0   \n",
              "3    A2C83115FC866BDD93  A2C83115FC866BDD93  29       0       1       0   \n",
              "4    O2D4BD76C739700FDB  O2D4BD76C739700FDB  24       0       1       0   \n",
              "..                  ...                 ...  ..     ...     ...     ...   \n",
              "246  A25F639D461B18F68E  A25F639D461B18F68E  29       0       1       0   \n",
              "247  D2801FC5B243A74402  D2801FC5B243A74402  27       0       1       0   \n",
              "248  S2577A2534491E41C4  S2577A2534491E41C4  25       0       1       0   \n",
              "249  Q230531C73A76FCC96  Q230531C73A76FCC96  40       0       1       0   \n",
              "250  A2CC34AACCF7BF73FB  A2CC34AACCF7BF73FB  30       0       1       0   \n",
              "\n",
              "     關係別_配偶  性別_1  性別_2  \n",
              "0         0     0     1  \n",
              "1         0     0     1  \n",
              "2         0     0     1  \n",
              "3         0     0     1  \n",
              "4         0     0     1  \n",
              "..      ...   ...   ...  \n",
              "246       0     0     1  \n",
              "247       0     0     1  \n",
              "248       0     0     1  \n",
              "249       0     0     1  \n",
              "250       0     0     1  \n",
              "\n",
              "[251 rows x 9 columns]"
            ]
          },
          "metadata": {
            "tags": []
          },
          "execution_count": 32
        }
      ]
    },
    {
      "cell_type": "code",
      "metadata": {
        "id": "LPrQ99p3tsV3"
      },
      "source": [
        "df_woid = df.drop(['員工ID','被保人ID'], axis=1)"
      ],
      "execution_count": null,
      "outputs": []
    },
    {
      "cell_type": "code",
      "metadata": {
        "scrolled": true,
        "id": "2w5R6zSZtsV3",
        "outputId": "c0a8c35a-4402-42b7-e695-c0633d6300af"
      },
      "source": [
        "df_woid"
      ],
      "execution_count": null,
      "outputs": [
        {
          "output_type": "execute_result",
          "data": {
            "text/html": [
              "<div>\n",
              "<style scoped>\n",
              "    .dataframe tbody tr th:only-of-type {\n",
              "        vertical-align: middle;\n",
              "    }\n",
              "\n",
              "    .dataframe tbody tr th {\n",
              "        vertical-align: top;\n",
              "    }\n",
              "\n",
              "    .dataframe thead th {\n",
              "        text-align: right;\n",
              "    }\n",
              "</style>\n",
              "<table border=\"1\" class=\"dataframe\">\n",
              "  <thead>\n",
              "    <tr style=\"text-align: right;\">\n",
              "      <th></th>\n",
              "      <th>年齡</th>\n",
              "      <th>關係別_子女</th>\n",
              "      <th>關係別_本人</th>\n",
              "      <th>關係別_父母</th>\n",
              "      <th>關係別_配偶</th>\n",
              "      <th>性別_1</th>\n",
              "      <th>性別_2</th>\n",
              "    </tr>\n",
              "  </thead>\n",
              "  <tbody>\n",
              "    <tr>\n",
              "      <th>0</th>\n",
              "      <td>32</td>\n",
              "      <td>0</td>\n",
              "      <td>1</td>\n",
              "      <td>0</td>\n",
              "      <td>0</td>\n",
              "      <td>0</td>\n",
              "      <td>1</td>\n",
              "    </tr>\n",
              "    <tr>\n",
              "      <th>1</th>\n",
              "      <td>60</td>\n",
              "      <td>0</td>\n",
              "      <td>0</td>\n",
              "      <td>1</td>\n",
              "      <td>0</td>\n",
              "      <td>0</td>\n",
              "      <td>1</td>\n",
              "    </tr>\n",
              "    <tr>\n",
              "      <th>2</th>\n",
              "      <td>34</td>\n",
              "      <td>0</td>\n",
              "      <td>1</td>\n",
              "      <td>0</td>\n",
              "      <td>0</td>\n",
              "      <td>0</td>\n",
              "      <td>1</td>\n",
              "    </tr>\n",
              "    <tr>\n",
              "      <th>3</th>\n",
              "      <td>29</td>\n",
              "      <td>0</td>\n",
              "      <td>1</td>\n",
              "      <td>0</td>\n",
              "      <td>0</td>\n",
              "      <td>0</td>\n",
              "      <td>1</td>\n",
              "    </tr>\n",
              "    <tr>\n",
              "      <th>4</th>\n",
              "      <td>24</td>\n",
              "      <td>0</td>\n",
              "      <td>1</td>\n",
              "      <td>0</td>\n",
              "      <td>0</td>\n",
              "      <td>0</td>\n",
              "      <td>1</td>\n",
              "    </tr>\n",
              "    <tr>\n",
              "      <th>...</th>\n",
              "      <td>...</td>\n",
              "      <td>...</td>\n",
              "      <td>...</td>\n",
              "      <td>...</td>\n",
              "      <td>...</td>\n",
              "      <td>...</td>\n",
              "      <td>...</td>\n",
              "    </tr>\n",
              "    <tr>\n",
              "      <th>246</th>\n",
              "      <td>29</td>\n",
              "      <td>0</td>\n",
              "      <td>1</td>\n",
              "      <td>0</td>\n",
              "      <td>0</td>\n",
              "      <td>0</td>\n",
              "      <td>1</td>\n",
              "    </tr>\n",
              "    <tr>\n",
              "      <th>247</th>\n",
              "      <td>27</td>\n",
              "      <td>0</td>\n",
              "      <td>1</td>\n",
              "      <td>0</td>\n",
              "      <td>0</td>\n",
              "      <td>0</td>\n",
              "      <td>1</td>\n",
              "    </tr>\n",
              "    <tr>\n",
              "      <th>248</th>\n",
              "      <td>25</td>\n",
              "      <td>0</td>\n",
              "      <td>1</td>\n",
              "      <td>0</td>\n",
              "      <td>0</td>\n",
              "      <td>0</td>\n",
              "      <td>1</td>\n",
              "    </tr>\n",
              "    <tr>\n",
              "      <th>249</th>\n",
              "      <td>40</td>\n",
              "      <td>0</td>\n",
              "      <td>1</td>\n",
              "      <td>0</td>\n",
              "      <td>0</td>\n",
              "      <td>0</td>\n",
              "      <td>1</td>\n",
              "    </tr>\n",
              "    <tr>\n",
              "      <th>250</th>\n",
              "      <td>30</td>\n",
              "      <td>0</td>\n",
              "      <td>1</td>\n",
              "      <td>0</td>\n",
              "      <td>0</td>\n",
              "      <td>0</td>\n",
              "      <td>1</td>\n",
              "    </tr>\n",
              "  </tbody>\n",
              "</table>\n",
              "<p>251 rows × 7 columns</p>\n",
              "</div>"
            ],
            "text/plain": [
              "     年齡  關係別_子女  關係別_本人  關係別_父母  關係別_配偶  性別_1  性別_2\n",
              "0    32       0       1       0       0     0     1\n",
              "1    60       0       0       1       0     0     1\n",
              "2    34       0       1       0       0     0     1\n",
              "3    29       0       1       0       0     0     1\n",
              "4    24       0       1       0       0     0     1\n",
              "..   ..     ...     ...     ...     ...   ...   ...\n",
              "246  29       0       1       0       0     0     1\n",
              "247  27       0       1       0       0     0     1\n",
              "248  25       0       1       0       0     0     1\n",
              "249  40       0       1       0       0     0     1\n",
              "250  30       0       1       0       0     0     1\n",
              "\n",
              "[251 rows x 7 columns]"
            ]
          },
          "metadata": {
            "tags": []
          },
          "execution_count": 70
        }
      ]
    },
    {
      "cell_type": "markdown",
      "metadata": {
        "id": "TW4r4vr-tsV4"
      },
      "source": [
        "#### summary"
      ]
    },
    {
      "cell_type": "code",
      "metadata": {
        "scrolled": true,
        "id": "ZbOPt7HKtsV5",
        "outputId": "60e74547-a849-430e-b03b-0c89167ecdcd"
      },
      "source": [
        "df.describe()"
      ],
      "execution_count": null,
      "outputs": [
        {
          "output_type": "execute_result",
          "data": {
            "text/html": [
              "<div>\n",
              "<style scoped>\n",
              "    .dataframe tbody tr th:only-of-type {\n",
              "        vertical-align: middle;\n",
              "    }\n",
              "\n",
              "    .dataframe tbody tr th {\n",
              "        vertical-align: top;\n",
              "    }\n",
              "\n",
              "    .dataframe thead th {\n",
              "        text-align: right;\n",
              "    }\n",
              "</style>\n",
              "<table border=\"1\" class=\"dataframe\">\n",
              "  <thead>\n",
              "    <tr style=\"text-align: right;\">\n",
              "      <th></th>\n",
              "      <th>年齡</th>\n",
              "      <th>關係別_子女</th>\n",
              "      <th>關係別_本人</th>\n",
              "      <th>關係別_父母</th>\n",
              "      <th>關係別_配偶</th>\n",
              "      <th>性別_1</th>\n",
              "      <th>性別_2</th>\n",
              "    </tr>\n",
              "  </thead>\n",
              "  <tbody>\n",
              "    <tr>\n",
              "      <th>count</th>\n",
              "      <td>251.000000</td>\n",
              "      <td>251.000000</td>\n",
              "      <td>251.000000</td>\n",
              "      <td>251.000000</td>\n",
              "      <td>251.000000</td>\n",
              "      <td>251.000000</td>\n",
              "      <td>251.000000</td>\n",
              "    </tr>\n",
              "    <tr>\n",
              "      <th>mean</th>\n",
              "      <td>38.023904</td>\n",
              "      <td>0.031873</td>\n",
              "      <td>0.900398</td>\n",
              "      <td>0.031873</td>\n",
              "      <td>0.035857</td>\n",
              "      <td>0.111554</td>\n",
              "      <td>0.888446</td>\n",
              "    </tr>\n",
              "    <tr>\n",
              "      <th>std</th>\n",
              "      <td>10.504829</td>\n",
              "      <td>0.176012</td>\n",
              "      <td>0.300066</td>\n",
              "      <td>0.176012</td>\n",
              "      <td>0.186304</td>\n",
              "      <td>0.315446</td>\n",
              "      <td>0.315446</td>\n",
              "    </tr>\n",
              "    <tr>\n",
              "      <th>min</th>\n",
              "      <td>20.000000</td>\n",
              "      <td>0.000000</td>\n",
              "      <td>0.000000</td>\n",
              "      <td>0.000000</td>\n",
              "      <td>0.000000</td>\n",
              "      <td>0.000000</td>\n",
              "      <td>0.000000</td>\n",
              "    </tr>\n",
              "    <tr>\n",
              "      <th>25%</th>\n",
              "      <td>30.000000</td>\n",
              "      <td>0.000000</td>\n",
              "      <td>1.000000</td>\n",
              "      <td>0.000000</td>\n",
              "      <td>0.000000</td>\n",
              "      <td>0.000000</td>\n",
              "      <td>1.000000</td>\n",
              "    </tr>\n",
              "    <tr>\n",
              "      <th>50%</th>\n",
              "      <td>38.000000</td>\n",
              "      <td>0.000000</td>\n",
              "      <td>1.000000</td>\n",
              "      <td>0.000000</td>\n",
              "      <td>0.000000</td>\n",
              "      <td>0.000000</td>\n",
              "      <td>1.000000</td>\n",
              "    </tr>\n",
              "    <tr>\n",
              "      <th>75%</th>\n",
              "      <td>44.000000</td>\n",
              "      <td>0.000000</td>\n",
              "      <td>1.000000</td>\n",
              "      <td>0.000000</td>\n",
              "      <td>0.000000</td>\n",
              "      <td>0.000000</td>\n",
              "      <td>1.000000</td>\n",
              "    </tr>\n",
              "    <tr>\n",
              "      <th>max</th>\n",
              "      <td>68.000000</td>\n",
              "      <td>1.000000</td>\n",
              "      <td>1.000000</td>\n",
              "      <td>1.000000</td>\n",
              "      <td>1.000000</td>\n",
              "      <td>1.000000</td>\n",
              "      <td>1.000000</td>\n",
              "    </tr>\n",
              "  </tbody>\n",
              "</table>\n",
              "</div>"
            ],
            "text/plain": [
              "               年齡      關係別_子女      關係別_本人      關係別_父母      關係別_配偶        性別_1  \\\n",
              "count  251.000000  251.000000  251.000000  251.000000  251.000000  251.000000   \n",
              "mean    38.023904    0.031873    0.900398    0.031873    0.035857    0.111554   \n",
              "std     10.504829    0.176012    0.300066    0.176012    0.186304    0.315446   \n",
              "min     20.000000    0.000000    0.000000    0.000000    0.000000    0.000000   \n",
              "25%     30.000000    0.000000    1.000000    0.000000    0.000000    0.000000   \n",
              "50%     38.000000    0.000000    1.000000    0.000000    0.000000    0.000000   \n",
              "75%     44.000000    0.000000    1.000000    0.000000    0.000000    0.000000   \n",
              "max     68.000000    1.000000    1.000000    1.000000    1.000000    1.000000   \n",
              "\n",
              "             性別_2  \n",
              "count  251.000000  \n",
              "mean     0.888446  \n",
              "std      0.315446  \n",
              "min      0.000000  \n",
              "25%      1.000000  \n",
              "50%      1.000000  \n",
              "75%      1.000000  \n",
              "max      1.000000  "
            ]
          },
          "metadata": {
            "tags": []
          },
          "execution_count": 30
        }
      ]
    },
    {
      "cell_type": "markdown",
      "metadata": {
        "id": "v0iIR9ZAtsV5"
      },
      "source": [
        "#### correlation of relationship, years, and sex"
      ]
    },
    {
      "cell_type": "code",
      "metadata": {
        "id": "nyJmvXmrtsV6"
      },
      "source": [
        "data = df_woid.to_numpy()"
      ],
      "execution_count": null,
      "outputs": []
    },
    {
      "cell_type": "code",
      "metadata": {
        "scrolled": true,
        "id": "il_lLTaItsV6",
        "outputId": "10f18957-ee26-42e7-894a-3180819b23d2"
      },
      "source": [
        "data"
      ],
      "execution_count": null,
      "outputs": [
        {
          "output_type": "execute_result",
          "data": {
            "text/plain": [
              "array([[32,  0,  1, ...,  0,  0,  1],\n",
              "       [60,  0,  0, ...,  0,  0,  1],\n",
              "       [34,  0,  1, ...,  0,  0,  1],\n",
              "       ...,\n",
              "       [25,  0,  1, ...,  0,  0,  1],\n",
              "       [40,  0,  1, ...,  0,  0,  1],\n",
              "       [30,  0,  1, ...,  0,  0,  1]], dtype=int64)"
            ]
          },
          "metadata": {
            "tags": []
          },
          "execution_count": 72
        }
      ]
    },
    {
      "cell_type": "code",
      "metadata": {
        "id": "VdxssUbZtsV7",
        "outputId": "a0541489-ae80-46b9-febf-7e663797f7b2"
      },
      "source": [
        "np.corrcoef(data.T)"
      ],
      "execution_count": null,
      "outputs": [
        {
          "output_type": "execute_result",
          "data": {
            "text/plain": [
              "array([[ 1.00000000e+00, -3.11938236e-01, -7.41112742e-02,\n",
              "         3.80338486e-01,  5.47442277e-02,  3.41982113e-02,\n",
              "        -3.41982113e-02],\n",
              "       [-3.11938236e-01,  1.00000000e+00, -5.45539337e-01,\n",
              "        -3.29218107e-02, -3.49909254e-02, -6.42937032e-02,\n",
              "         6.42937032e-02],\n",
              "       [-7.41112742e-02, -5.45539337e-01,  1.00000000e+00,\n",
              "        -5.45539337e-01, -5.79826135e-01,  7.55945820e-02,\n",
              "        -7.55945820e-02],\n",
              "       [ 3.80338486e-01, -3.29218107e-02, -5.45539337e-01,\n",
              "         1.00000000e+00, -3.49909254e-02, -6.42937032e-02,\n",
              "         6.42937032e-02],\n",
              "       [ 5.47442277e-02, -3.49909254e-02, -5.79826135e-01,\n",
              "        -3.49909254e-02,  1.00000000e+00, -2.71168735e-04,\n",
              "         2.71168735e-04],\n",
              "       [ 3.41982113e-02, -6.42937032e-02,  7.55945820e-02,\n",
              "        -6.42937032e-02, -2.71168735e-04,  1.00000000e+00,\n",
              "        -1.00000000e+00],\n",
              "       [-3.41982113e-02,  6.42937032e-02, -7.55945820e-02,\n",
              "         6.42937032e-02,  2.71168735e-04, -1.00000000e+00,\n",
              "         1.00000000e+00]])"
            ]
          },
          "metadata": {
            "tags": []
          },
          "execution_count": 74
        }
      ]
    },
    {
      "cell_type": "markdown",
      "metadata": {
        "id": "29A-COyOtsV7"
      },
      "source": [
        "### modeling or clustering "
      ]
    },
    {
      "cell_type": "markdown",
      "metadata": {
        "id": "IrtZ6qI1tsV8"
      },
      "source": [
        "#### logistic regression"
      ]
    },
    {
      "cell_type": "code",
      "metadata": {
        "id": "OcSCKMlMtsV9"
      },
      "source": [
        "from sklearn.linear_model import LogisticRegression"
      ],
      "execution_count": null,
      "outputs": []
    },
    {
      "cell_type": "markdown",
      "metadata": {
        "id": "5vUlsLzbtsV-"
      },
      "source": [
        "#### k means"
      ]
    },
    {
      "cell_type": "code",
      "metadata": {
        "id": "0xiA1aK4tsV-"
      },
      "source": [
        "from sklearn.cluster import KMeans"
      ],
      "execution_count": null,
      "outputs": []
    },
    {
      "cell_type": "code",
      "metadata": {
        "id": "N9QBWJpLtsV_"
      },
      "source": [
        "kmeans = KMeans(n_clusters = 3)"
      ],
      "execution_count": null,
      "outputs": []
    },
    {
      "cell_type": "code",
      "metadata": {
        "id": "DSIEjabLtsV_",
        "outputId": "4b253a00-767e-44da-b140-12f7759d2e3c"
      },
      "source": [
        "kmeans.fit(df_woid)"
      ],
      "execution_count": null,
      "outputs": [
        {
          "output_type": "execute_result",
          "data": {
            "text/plain": [
              "KMeans(n_clusters=3)"
            ]
          },
          "metadata": {
            "tags": []
          },
          "execution_count": 75
        }
      ]
    },
    {
      "cell_type": "code",
      "metadata": {
        "id": "-MhMr-aotsV_"
      },
      "source": [
        "labels = kmeans.predict(df_woid)\n",
        "centroids = kmeans.cluster_centers_"
      ],
      "execution_count": null,
      "outputs": []
    },
    {
      "cell_type": "code",
      "metadata": {
        "id": "EQzk0Ld0tsWA",
        "outputId": "c1ba668f-8f1b-4d0f-9fc6-cd54a8c5df3c"
      },
      "source": [
        "\"\"\"\n",
        "fig = plt.figure(figsize=(5, 5))\n",
        "\n",
        "#colors = map(lambda x: colmap[x+1], labels)\n",
        "\n",
        "plt.scatter(df_woid['年齡'], df_woid['關係別_配偶'], alpha=0.5, edgecolor='k')\n",
        "for idx, centroid in enumerate(centroids):\n",
        "    plt.scatter(*centroid)\n",
        "plt.xlim(0, 100)\n",
        "plt.ylim(0, 100)\n",
        "plt.show\n",
        "\"\"\""
      ],
      "execution_count": null,
      "outputs": [
        {
          "output_type": "execute_result",
          "data": {
            "text/plain": [
              "\"\\nfig = plt.figure(figsize=(5, 5))\\n\\n#colors = map(lambda x: colmap[x+1], labels)\\n\\nplt.scatter(df_woid['年齡'], df_woid['關係別_配偶'], alpha=0.5, edgecolor='k')\\nfor idx, centroid in enumerate(centroids):\\n    plt.scatter(*centroid)\\nplt.xlim(0, 100)\\nplt.ylim(0, 100)\\nplt.show\\n\""
            ]
          },
          "metadata": {
            "tags": []
          },
          "execution_count": 92
        }
      ]
    }
  ]
}