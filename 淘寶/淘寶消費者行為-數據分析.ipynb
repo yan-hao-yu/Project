{
 "cells": [
  {
   "cell_type": "code",
   "execution_count": 2,
   "id": "325eb1e2",
   "metadata": {},
   "outputs": [],
   "source": [
    "import sqlite3\n",
    "import pandas as pd\n",
    "import numpy as np\n",
    "\n",
    "import matplotlib.pyplot as plt\n",
    "\n",
    "import pyecharts\n",
    "import pyecharts.options as opts\n",
    "\n",
    "from pyecharts.charts import Line\n",
    "from pyecharts.charts import Bar\n",
    "from pyecharts.charts import Pie"
   ]
  },
  {
   "cell_type": "code",
   "execution_count": 3,
   "id": "b9b58b38",
   "metadata": {},
   "outputs": [
    {
     "name": "stdout",
     "output_type": "stream",
     "text": [
      "database open success!\n"
     ]
    }
   ],
   "source": [
    "conn = sqlite3.connect('taobao.db')\n",
    "cur = conn.cursor()\n",
    "print('database open success!')"
   ]
  },
  {
   "cell_type": "markdown",
   "id": "6908a5a7",
   "metadata": {},
   "source": [
    "## 行為統計"
   ]
  },
  {
   "cell_type": "code",
   "execution_count": 4,
   "id": "cc3ec6e4",
   "metadata": {},
   "outputs": [
    {
     "data": {
      "text/html": [
       "<div>\n",
       "<style scoped>\n",
       "    .dataframe tbody tr th:only-of-type {\n",
       "        vertical-align: middle;\n",
       "    }\n",
       "\n",
       "    .dataframe tbody tr th {\n",
       "        vertical-align: top;\n",
       "    }\n",
       "\n",
       "    .dataframe thead th {\n",
       "        text-align: right;\n",
       "    }\n",
       "</style>\n",
       "<table border=\"1\" class=\"dataframe\">\n",
       "  <thead>\n",
       "    <tr style=\"text-align: right;\">\n",
       "      <th></th>\n",
       "      <th>行為</th>\n",
       "      <th>次數</th>\n",
       "      <th>percentage</th>\n",
       "    </tr>\n",
       "  </thead>\n",
       "  <tbody>\n",
       "    <tr>\n",
       "      <th>0</th>\n",
       "      <td>點擊</td>\n",
       "      <td>987911</td>\n",
       "      <td>94.215</td>\n",
       "    </tr>\n",
       "    <tr>\n",
       "      <th>1</th>\n",
       "      <td>收藏</td>\n",
       "      <td>20997</td>\n",
       "      <td>2.002</td>\n",
       "    </tr>\n",
       "    <tr>\n",
       "      <th>2</th>\n",
       "      <td>加購物車</td>\n",
       "      <td>29427</td>\n",
       "      <td>2.806</td>\n",
       "    </tr>\n",
       "    <tr>\n",
       "      <th>3</th>\n",
       "      <td>支付</td>\n",
       "      <td>10240</td>\n",
       "      <td>0.977</td>\n",
       "    </tr>\n",
       "  </tbody>\n",
       "</table>\n",
       "</div>"
      ],
      "text/plain": [
       "     行為      次數  percentage\n",
       "0    點擊  987911      94.215\n",
       "1    收藏   20997       2.002\n",
       "2  加購物車   29427       2.806\n",
       "3    支付   10240       0.977"
      ]
     },
     "execution_count": 4,
     "metadata": {},
     "output_type": "execute_result"
    }
   ],
   "source": [
    "sql = '''\n",
    "    SELECT CASE WHEN behavior_type = '1' THEN '點擊' \n",
    "                WHEN behavior_type = '2' THEN '收藏' \n",
    "                WHEN behavior_type = '3' THEN '加購物車' \n",
    "                ELSE '支付' \n",
    "                END AS 行為,\n",
    "           count( * ) AS 次數\n",
    "      FROM behavior\n",
    "     GROUP BY behavior_type;\n",
    "'''\n",
    "behavior_count= []\n",
    "\n",
    "for row in cur.execute(sql):\n",
    "    behavior_count.append(row)\n",
    "    \n",
    "df_behavior_count = pd.DataFrame(behavior_count, columns=['行為', '次數'])\n",
    "\n",
    "def percentage(x):\n",
    "    behavior_percentage = (x/ x.sum())*100\n",
    "    behavior_percentage = round(behavior_percentage, 3)\n",
    "    df_behavior_count['percentage'] = behavior_percentage\n",
    "    return df_behavior_count\n",
    "percentage(df_behavior_count['次數'])"
   ]
  },
  {
   "cell_type": "code",
   "execution_count": 5,
   "id": "13b12153",
   "metadata": {},
   "outputs": [
    {
     "data": {
      "text/plain": [
       "'/Users/yanghaoyu/side_project/taobao/pie.html'"
      ]
     },
     "execution_count": 5,
     "metadata": {},
     "output_type": "execute_result"
    }
   ],
   "source": [
    "(\n",
    "    Pie()\n",
    "    .add(\"\", [list(z) for z in zip(df_behavior_count['行為'], df_behavior_count['percentage'])])\n",
    "    .set_global_opts(title_opts=opts.TitleOpts(title=\"Pie-基本示例\"))\n",
    "    .set_series_opts(label_opts=opts.LabelOpts(formatter=\"{b}: {c}%\")) \n",
    ").render('pie.html')"
   ]
  },
  {
   "cell_type": "markdown",
   "id": "a69237e2",
   "metadata": {},
   "source": [
    "## 雙12單日的用戶行為"
   ]
  },
  {
   "cell_type": "code",
   "execution_count": 6,
   "id": "caa2a916",
   "metadata": {},
   "outputs": [
    {
     "data": {
      "text/html": [
       "<div>\n",
       "<style scoped>\n",
       "    .dataframe tbody tr th:only-of-type {\n",
       "        vertical-align: middle;\n",
       "    }\n",
       "\n",
       "    .dataframe tbody tr th {\n",
       "        vertical-align: top;\n",
       "    }\n",
       "\n",
       "    .dataframe thead th {\n",
       "        text-align: right;\n",
       "    }\n",
       "</style>\n",
       "<table border=\"1\" class=\"dataframe\">\n",
       "  <thead>\n",
       "    <tr style=\"text-align: right;\">\n",
       "      <th></th>\n",
       "      <th>行為</th>\n",
       "      <th>次數</th>\n",
       "      <th>percentage</th>\n",
       "    </tr>\n",
       "  </thead>\n",
       "  <tbody>\n",
       "    <tr>\n",
       "      <th>0</th>\n",
       "      <td>點擊</td>\n",
       "      <td>54992</td>\n",
       "      <td>92.693</td>\n",
       "    </tr>\n",
       "    <tr>\n",
       "      <th>1</th>\n",
       "      <td>收藏</td>\n",
       "      <td>914</td>\n",
       "      <td>1.541</td>\n",
       "    </tr>\n",
       "    <tr>\n",
       "      <th>2</th>\n",
       "      <td>加購物車</td>\n",
       "      <td>2130</td>\n",
       "      <td>3.590</td>\n",
       "    </tr>\n",
       "    <tr>\n",
       "      <th>3</th>\n",
       "      <td>支付</td>\n",
       "      <td>1291</td>\n",
       "      <td>2.176</td>\n",
       "    </tr>\n",
       "  </tbody>\n",
       "</table>\n",
       "</div>"
      ],
      "text/plain": [
       "     行為     次數  percentage\n",
       "0    點擊  54992      92.693\n",
       "1    收藏    914       1.541\n",
       "2  加購物車   2130       3.590\n",
       "3    支付   1291       2.176"
      ]
     },
     "execution_count": 6,
     "metadata": {},
     "output_type": "execute_result"
    }
   ],
   "source": [
    "sql = '''\n",
    "    SELECT CASE WHEN behavior_type = '1' THEN '點擊' \n",
    "                WHEN behavior_type = '2' THEN '收藏' \n",
    "                WHEN behavior_type = '3' THEN '加購物車' \n",
    "                ELSE '支付' \n",
    "                END AS 行為,\n",
    "           count(behavior_type) AS 次數\n",
    "      FROM behavior\n",
    "     WHERE strftime('%Y-%m-%d', datetime) = '2014-12-12'\n",
    "     GROUP BY behavior_type;\n",
    "\n",
    "'''\n",
    "behavior12_count= []\n",
    "\n",
    "for row in cur.execute(sql):\n",
    "    behavior12_count.append(row)\n",
    "    \n",
    "df_behavior12_count = pd.DataFrame(behavior12_count, columns=['行為', '次數'])\n",
    "\n",
    "def percentage(x):\n",
    "    behavior_percentage = (x/ x.sum())*100\n",
    "    behavior_percentage = round(behavior_percentage, 3)\n",
    "    df_behavior12_count['percentage'] = behavior_percentage\n",
    "    return df_behavior12_count\n",
    "percentage(df_behavior12_count['次數'])"
   ]
  },
  {
   "cell_type": "code",
   "execution_count": 7,
   "id": "34523c21",
   "metadata": {},
   "outputs": [
    {
     "data": {
      "text/plain": [
       "'/Users/yanghaoyu/side_project/taobao/pie12.html'"
      ]
     },
     "execution_count": 7,
     "metadata": {},
     "output_type": "execute_result"
    }
   ],
   "source": [
    "(\n",
    "    Pie()\n",
    "    .add(\"\", [list(z) for z in zip(df_behavior_count['行為'], df_behavior_count['percentage'])])\n",
    "    .set_global_opts(title_opts=opts.TitleOpts(title=\"Pie-基本示例\"))\n",
    "    .set_series_opts(label_opts=opts.LabelOpts(formatter=\"{b}: {c}%\")) \n",
    ").render('pie12.html')"
   ]
  },
  {
   "cell_type": "markdown",
   "id": "9300ce53",
   "metadata": {},
   "source": [
    "## PV UV"
   ]
  },
  {
   "cell_type": "code",
   "execution_count": 8,
   "id": "079692f2",
   "metadata": {},
   "outputs": [
    {
     "data": {
      "text/html": [
       "<div>\n",
       "<style scoped>\n",
       "    .dataframe tbody tr th:only-of-type {\n",
       "        vertical-align: middle;\n",
       "    }\n",
       "\n",
       "    .dataframe tbody tr th {\n",
       "        vertical-align: top;\n",
       "    }\n",
       "\n",
       "    .dataframe thead th {\n",
       "        text-align: right;\n",
       "    }\n",
       "</style>\n",
       "<table border=\"1\" class=\"dataframe\">\n",
       "  <thead>\n",
       "    <tr style=\"text-align: right;\">\n",
       "      <th></th>\n",
       "      <th>date</th>\n",
       "      <th>pv</th>\n",
       "      <th>uv</th>\n",
       "    </tr>\n",
       "  </thead>\n",
       "  <tbody>\n",
       "    <tr>\n",
       "      <th>0</th>\n",
       "      <td>2014-11-18</td>\n",
       "      <td>29802</td>\n",
       "      <td>4283</td>\n",
       "    </tr>\n",
       "    <tr>\n",
       "      <th>1</th>\n",
       "      <td>2014-11-19</td>\n",
       "      <td>28723</td>\n",
       "      <td>4301</td>\n",
       "    </tr>\n",
       "    <tr>\n",
       "      <th>2</th>\n",
       "      <td>2014-11-20</td>\n",
       "      <td>28798</td>\n",
       "      <td>4276</td>\n",
       "    </tr>\n",
       "    <tr>\n",
       "      <th>3</th>\n",
       "      <td>2014-11-21</td>\n",
       "      <td>26403</td>\n",
       "      <td>4144</td>\n",
       "    </tr>\n",
       "    <tr>\n",
       "      <th>4</th>\n",
       "      <td>2014-11-22</td>\n",
       "      <td>29538</td>\n",
       "      <td>4122</td>\n",
       "    </tr>\n",
       "  </tbody>\n",
       "</table>\n",
       "</div>"
      ],
      "text/plain": [
       "         date     pv    uv\n",
       "0  2014-11-18  29802  4283\n",
       "1  2014-11-19  28723  4301\n",
       "2  2014-11-20  28798  4276\n",
       "3  2014-11-21  26403  4144\n",
       "4  2014-11-22  29538  4122"
      ]
     },
     "execution_count": 8,
     "metadata": {},
     "output_type": "execute_result"
    }
   ],
   "source": [
    "sql = '''\n",
    "        SELECT uv.date, pv.pv, uv.uv FROM\n",
    "        (SELECT strftime('%Y-%m-%d', datetime) AS date, count(behavior_type) AS pv\n",
    "            FROM behavior\n",
    "            WHERE behavior_type = '1'\n",
    "            GROUP BY date) AS pv,\n",
    "        (\n",
    "            SELECT date, count(*) AS uv FROM(\n",
    "                    SELECT strftime('%Y-%m-%d', datetime) AS date, user_id\n",
    "                    FROM behavior\n",
    "                    GROUP BY date, user_id\n",
    "                    ORDER BY date)\n",
    "            GROUP BY date\n",
    "        ) AS uv\n",
    "        WHERE pv.date = uv.date\n",
    "'''\n",
    "\n",
    "pvuv = []\n",
    "for row in cur.execute(sql):\n",
    "    pvuv.append(row)\n",
    "    \n",
    "df_pvuv = pd.DataFrame(pvuv, columns=['date', 'pv', 'uv'])\n",
    "df_pvuv.head(5)"
   ]
  },
  {
   "cell_type": "code",
   "execution_count": 9,
   "id": "2c6bc819",
   "metadata": {},
   "outputs": [
    {
     "data": {
      "text/html": [
       "<div>\n",
       "<style scoped>\n",
       "    .dataframe tbody tr th:only-of-type {\n",
       "        vertical-align: middle;\n",
       "    }\n",
       "\n",
       "    .dataframe tbody tr th {\n",
       "        vertical-align: top;\n",
       "    }\n",
       "\n",
       "    .dataframe thead th {\n",
       "        text-align: right;\n",
       "    }\n",
       "</style>\n",
       "<table border=\"1\" class=\"dataframe\">\n",
       "  <thead>\n",
       "    <tr style=\"text-align: right;\">\n",
       "      <th></th>\n",
       "      <th>date</th>\n",
       "      <th>pv</th>\n",
       "      <th>uv</th>\n",
       "    </tr>\n",
       "  </thead>\n",
       "  <tbody>\n",
       "    <tr>\n",
       "      <th>0</th>\n",
       "      <td>2014-11-18</td>\n",
       "      <td>29802</td>\n",
       "      <td>4283</td>\n",
       "    </tr>\n",
       "    <tr>\n",
       "      <th>1</th>\n",
       "      <td>2014-11-19</td>\n",
       "      <td>28723</td>\n",
       "      <td>4301</td>\n",
       "    </tr>\n",
       "    <tr>\n",
       "      <th>2</th>\n",
       "      <td>2014-11-20</td>\n",
       "      <td>28798</td>\n",
       "      <td>4276</td>\n",
       "    </tr>\n",
       "    <tr>\n",
       "      <th>3</th>\n",
       "      <td>2014-11-21</td>\n",
       "      <td>26403</td>\n",
       "      <td>4144</td>\n",
       "    </tr>\n",
       "    <tr>\n",
       "      <th>4</th>\n",
       "      <td>2014-11-22</td>\n",
       "      <td>29538</td>\n",
       "      <td>4122</td>\n",
       "    </tr>\n",
       "  </tbody>\n",
       "</table>\n",
       "</div>"
      ],
      "text/plain": [
       "         date     pv    uv\n",
       "0  2014-11-18  29802  4283\n",
       "1  2014-11-19  28723  4301\n",
       "2  2014-11-20  28798  4276\n",
       "3  2014-11-21  26403  4144\n",
       "4  2014-11-22  29538  4122"
      ]
     },
     "execution_count": 9,
     "metadata": {},
     "output_type": "execute_result"
    }
   ],
   "source": [
    "sql = '''\n",
    "        SELECT uv.date, pv.pv, uv.uv FROM\n",
    "        (SELECT strftime('%Y-%m-%d', datetime) AS date, count(behavior_type) AS pv\n",
    "            FROM behavior\n",
    "            WHERE behavior_type = '1'\n",
    "            GROUP BY date) AS pv,\n",
    "        (\n",
    "            SELECT date, count(*) AS uv FROM(\n",
    "                    SELECT strftime('%Y-%m-%d', datetime) AS date, user_id\n",
    "                    FROM behavior\n",
    "                    GROUP BY date, user_id\n",
    "                    ORDER BY date)\n",
    "            GROUP BY date\n",
    "        ) AS uv\n",
    "        WHERE pv.date = uv.date\n",
    "'''\n",
    "\n",
    "pvuv = []\n",
    "for row in cur.execute(sql):\n",
    "    pvuv.append(row)\n",
    "    \n",
    "df_pvuv = pd.DataFrame(pvuv, columns=['date', 'pv', 'uv'])\n",
    "df_pvuv.head(5)"
   ]
  },
  {
   "cell_type": "code",
   "execution_count": 35,
   "id": "d8262a36",
   "metadata": {},
   "outputs": [
    {
     "data": {
      "text/plain": [
       "'/Users/yanghaoyu/side_project/taobao/pv&uv.html'"
      ]
     },
     "execution_count": 35,
     "metadata": {},
     "output_type": "execute_result"
    }
   ],
   "source": [
    "# from pyecharts.charts import Line\n",
    "date = list(df_pvuv['date'])\n",
    "pv = list(df_pvuv['pv'])\n",
    "uv = list(df_pvuv['uv'])\n",
    "(\n",
    "    Line(init_opts=opts.InitOpts(width=\"1300px\", height=\"600px\"))\n",
    "    .add_xaxis(xaxis_data=date)\n",
    "    .add_yaxis(\n",
    "        series_name=\"pv\",\n",
    "        y_axis=pv,\n",
    "        markpoint_opts=opts.MarkPointOpts(\n",
    "            data=[\n",
    "                opts.MarkPointItem(type_=\"max\", name=\"最大值\"),\n",
    "            ]\n",
    "        ),\n",
    "#         markline_opts=opts.MarkLineOpts(\n",
    "#             data=[opts.MarkLineItem(type_=\"average\", name=\"平均值\")]\n",
    "#         ),\n",
    "    )\n",
    "    .add_yaxis(\n",
    "        series_name=\"uv\",\n",
    "        y_axis=uv,\n",
    "        markpoint_opts=opts.MarkPointOpts(\n",
    "            data=[\n",
    "                    opts.MarkPointItem(type_=\"max\", name=\"最大值\"),\n",
    "            ]\n",
    "        ),\n",
    "#         markline_opts=opts.MarkLineOpts(\n",
    "#             data=[\n",
    "#                 opts.MarkLineItem(type_=\"average\", name=\"平均值\"),\n",
    "#                 opts.MarkLineItem(symbol=\"none\", x=\"100%\", y=\"max\"),\n",
    "#                 opts.MarkLineItem(symbol=\"circle\", type_=\"max\", name=\"最高点\"),\n",
    "#             ]\n",
    "#         ),\n",
    "     )\n",
    "    .set_global_opts(\n",
    "        title_opts=opts.TitleOpts(title=\"pv&uv\", subtitle='x軸-時間, y軸-pv&uv次數', pos_left=50),\n",
    "        tooltip_opts=opts.TooltipOpts(trigger=\"axis\"),\n",
    "        toolbox_opts=opts.ToolboxOpts(is_show=True),\n",
    "        xaxis_opts=opts.AxisOpts(type_=\"category\", boundary_gap=False),\n",
    "    )\n",
    "    .render('pv&uv.html')\n",
    "#     .render_notebook()\n",
    ")"
   ]
  },
  {
   "cell_type": "markdown",
   "id": "5adabd76",
   "metadata": {},
   "source": [
    "## 用戶是否會於雙12前幾日開始有累積購物車的行為"
   ]
  },
  {
   "cell_type": "code",
   "execution_count": 11,
   "id": "1024bc3f",
   "metadata": {},
   "outputs": [
    {
     "data": {
      "text/html": [
       "<div>\n",
       "<style scoped>\n",
       "    .dataframe tbody tr th:only-of-type {\n",
       "        vertical-align: middle;\n",
       "    }\n",
       "\n",
       "    .dataframe tbody tr th {\n",
       "        vertical-align: top;\n",
       "    }\n",
       "\n",
       "    .dataframe thead th {\n",
       "        text-align: right;\n",
       "    }\n",
       "</style>\n",
       "<table border=\"1\" class=\"dataframe\">\n",
       "  <thead>\n",
       "    <tr style=\"text-align: right;\">\n",
       "      <th></th>\n",
       "      <th>日期</th>\n",
       "      <th>加入購物車次數</th>\n",
       "    </tr>\n",
       "  </thead>\n",
       "  <tbody>\n",
       "    <tr>\n",
       "      <th>0</th>\n",
       "      <td>2014-11-18</td>\n",
       "      <td>866</td>\n",
       "    </tr>\n",
       "    <tr>\n",
       "      <th>1</th>\n",
       "      <td>2014-11-19</td>\n",
       "      <td>880</td>\n",
       "    </tr>\n",
       "    <tr>\n",
       "      <th>2</th>\n",
       "      <td>2014-11-20</td>\n",
       "      <td>877</td>\n",
       "    </tr>\n",
       "    <tr>\n",
       "      <th>3</th>\n",
       "      <td>2014-11-21</td>\n",
       "      <td>778</td>\n",
       "    </tr>\n",
       "    <tr>\n",
       "      <th>4</th>\n",
       "      <td>2014-11-22</td>\n",
       "      <td>854</td>\n",
       "    </tr>\n",
       "    <tr>\n",
       "      <th>5</th>\n",
       "      <td>2014-11-23</td>\n",
       "      <td>850</td>\n",
       "    </tr>\n",
       "    <tr>\n",
       "      <th>6</th>\n",
       "      <td>2014-11-24</td>\n",
       "      <td>858</td>\n",
       "    </tr>\n",
       "    <tr>\n",
       "      <th>7</th>\n",
       "      <td>2014-11-25</td>\n",
       "      <td>886</td>\n",
       "    </tr>\n",
       "    <tr>\n",
       "      <th>8</th>\n",
       "      <td>2014-11-26</td>\n",
       "      <td>812</td>\n",
       "    </tr>\n",
       "    <tr>\n",
       "      <th>9</th>\n",
       "      <td>2014-11-27</td>\n",
       "      <td>861</td>\n",
       "    </tr>\n",
       "    <tr>\n",
       "      <th>10</th>\n",
       "      <td>2014-11-28</td>\n",
       "      <td>819</td>\n",
       "    </tr>\n",
       "    <tr>\n",
       "      <th>11</th>\n",
       "      <td>2014-11-29</td>\n",
       "      <td>949</td>\n",
       "    </tr>\n",
       "    <tr>\n",
       "      <th>12</th>\n",
       "      <td>2014-11-30</td>\n",
       "      <td>945</td>\n",
       "    </tr>\n",
       "    <tr>\n",
       "      <th>13</th>\n",
       "      <td>2014-12-01</td>\n",
       "      <td>972</td>\n",
       "    </tr>\n",
       "    <tr>\n",
       "      <th>14</th>\n",
       "      <td>2014-12-02</td>\n",
       "      <td>973</td>\n",
       "    </tr>\n",
       "    <tr>\n",
       "      <th>15</th>\n",
       "      <td>2014-12-03</td>\n",
       "      <td>1002</td>\n",
       "    </tr>\n",
       "    <tr>\n",
       "      <th>16</th>\n",
       "      <td>2014-12-04</td>\n",
       "      <td>1021</td>\n",
       "    </tr>\n",
       "    <tr>\n",
       "      <th>17</th>\n",
       "      <td>2014-12-05</td>\n",
       "      <td>874</td>\n",
       "    </tr>\n",
       "    <tr>\n",
       "      <th>18</th>\n",
       "      <td>2014-12-06</td>\n",
       "      <td>917</td>\n",
       "    </tr>\n",
       "    <tr>\n",
       "      <th>19</th>\n",
       "      <td>2014-12-07</td>\n",
       "      <td>991</td>\n",
       "    </tr>\n",
       "    <tr>\n",
       "      <th>20</th>\n",
       "      <td>2014-12-08</td>\n",
       "      <td>877</td>\n",
       "    </tr>\n",
       "    <tr>\n",
       "      <th>21</th>\n",
       "      <td>2014-12-09</td>\n",
       "      <td>955</td>\n",
       "    </tr>\n",
       "    <tr>\n",
       "      <th>22</th>\n",
       "      <td>2014-12-10</td>\n",
       "      <td>1019</td>\n",
       "    </tr>\n",
       "    <tr>\n",
       "      <th>23</th>\n",
       "      <td>2014-12-11</td>\n",
       "      <td>1344</td>\n",
       "    </tr>\n",
       "    <tr>\n",
       "      <th>24</th>\n",
       "      <td>2014-12-12</td>\n",
       "      <td>2130</td>\n",
       "    </tr>\n",
       "    <tr>\n",
       "      <th>25</th>\n",
       "      <td>2014-12-13</td>\n",
       "      <td>892</td>\n",
       "    </tr>\n",
       "    <tr>\n",
       "      <th>26</th>\n",
       "      <td>2014-12-14</td>\n",
       "      <td>842</td>\n",
       "    </tr>\n",
       "    <tr>\n",
       "      <th>27</th>\n",
       "      <td>2014-12-15</td>\n",
       "      <td>885</td>\n",
       "    </tr>\n",
       "    <tr>\n",
       "      <th>28</th>\n",
       "      <td>2014-12-16</td>\n",
       "      <td>885</td>\n",
       "    </tr>\n",
       "    <tr>\n",
       "      <th>29</th>\n",
       "      <td>2014-12-17</td>\n",
       "      <td>863</td>\n",
       "    </tr>\n",
       "    <tr>\n",
       "      <th>30</th>\n",
       "      <td>2014-12-18</td>\n",
       "      <td>750</td>\n",
       "    </tr>\n",
       "  </tbody>\n",
       "</table>\n",
       "</div>"
      ],
      "text/plain": [
       "            日期  加入購物車次數\n",
       "0   2014-11-18      866\n",
       "1   2014-11-19      880\n",
       "2   2014-11-20      877\n",
       "3   2014-11-21      778\n",
       "4   2014-11-22      854\n",
       "5   2014-11-23      850\n",
       "6   2014-11-24      858\n",
       "7   2014-11-25      886\n",
       "8   2014-11-26      812\n",
       "9   2014-11-27      861\n",
       "10  2014-11-28      819\n",
       "11  2014-11-29      949\n",
       "12  2014-11-30      945\n",
       "13  2014-12-01      972\n",
       "14  2014-12-02      973\n",
       "15  2014-12-03     1002\n",
       "16  2014-12-04     1021\n",
       "17  2014-12-05      874\n",
       "18  2014-12-06      917\n",
       "19  2014-12-07      991\n",
       "20  2014-12-08      877\n",
       "21  2014-12-09      955\n",
       "22  2014-12-10     1019\n",
       "23  2014-12-11     1344\n",
       "24  2014-12-12     2130\n",
       "25  2014-12-13      892\n",
       "26  2014-12-14      842\n",
       "27  2014-12-15      885\n",
       "28  2014-12-16      885\n",
       "29  2014-12-17      863\n",
       "30  2014-12-18      750"
      ]
     },
     "execution_count": 11,
     "metadata": {},
     "output_type": "execute_result"
    }
   ],
   "source": [
    "sql = '''\n",
    "    SELECT cart_behavior.date as date,\n",
    "           count( * ) AS add_cart_behavior\n",
    "      FROM (\n",
    "               SELECT user_id,\n",
    "                      item_id,\n",
    "                      item_category,\n",
    "                      strftime('%Y-%m-%d', datetime) AS date\n",
    "                 FROM behavior\n",
    "                WHERE behavior_type = '3'\n",
    "           )\n",
    "           AS cart_behavior\n",
    "     GROUP BY date\n",
    "     ORDER BY cart_behavior.date;\n",
    "'''\n",
    "add_cart_before12 = []\n",
    "\n",
    "for row in cur.execute(sql):\n",
    "    add_cart_before12.append(row)\n",
    "    \n",
    "df_add_cart_before12 = pd.DataFrame(add_cart_before12, columns=['日期', '加入購物車次數'])\n",
    "df_add_cart_before12"
   ]
  },
  {
   "cell_type": "code",
   "execution_count": 24,
   "id": "1699c185",
   "metadata": {},
   "outputs": [
    {
     "data": {
      "text/plain": [
       "'/Users/yanghaoyu/side_project/taobao/add_cart.html'"
      ]
     },
     "execution_count": 24,
     "metadata": {},
     "output_type": "execute_result"
    }
   ],
   "source": [
    "# from pyecharts.charts import Line\n",
    "date = list(df_add_cart_before12['日期'])\n",
    "add_cart = list(df_add_cart_before12['加入購物車次數'])\n",
    "(\n",
    "    Line(init_opts=opts.InitOpts(width=\"1300px\", height=\"600px\"))\n",
    "    .add_xaxis(xaxis_data=date)\n",
    "    .add_yaxis(\n",
    "        series_name=\"加入購物車行為\",\n",
    "        y_axis=add_cart,\n",
    "        markpoint_opts=opts.MarkPointOpts(\n",
    "            data=[\n",
    "                opts.MarkPointItem(type_=\"max\", name=\"最大值\"),\n",
    "            ]\n",
    "        ),\n",
    "        markline_opts=opts.MarkLineOpts(\n",
    "            data=[opts.MarkLineItem(type_=\"average\", name=\"平均值\")]\n",
    "        ),\n",
    "    )\n",
    "    .set_global_opts(\n",
    "        title_opts=opts.TitleOpts(title=\"用戶是否會於雙12前幾日開始有累積購物車的行為\", pos_left=65),\n",
    "        tooltip_opts=opts.TooltipOpts(trigger=\"axis\"),\n",
    "        toolbox_opts=opts.ToolboxOpts(is_show=True),\n",
    "        xaxis_opts=opts.AxisOpts(type_=\"category\", boundary_gap=False),\n",
    "    )\n",
    "    .render('add_cart.html')\n",
    "#     .render_notebook()\n",
    ")"
   ]
  },
  {
   "cell_type": "markdown",
   "id": "c42d982a",
   "metadata": {},
   "source": [
    "## 時段的行為統計"
   ]
  },
  {
   "cell_type": "code",
   "execution_count": 12,
   "id": "4e7381ab",
   "metadata": {},
   "outputs": [
    {
     "data": {
      "text/html": [
       "<div>\n",
       "<style scoped>\n",
       "    .dataframe tbody tr th:only-of-type {\n",
       "        vertical-align: middle;\n",
       "    }\n",
       "\n",
       "    .dataframe tbody tr th {\n",
       "        vertical-align: top;\n",
       "    }\n",
       "\n",
       "    .dataframe thead th {\n",
       "        text-align: right;\n",
       "    }\n",
       "</style>\n",
       "<table border=\"1\" class=\"dataframe\">\n",
       "  <thead>\n",
       "    <tr style=\"text-align: right;\">\n",
       "      <th></th>\n",
       "      <th>小時</th>\n",
       "      <th>用戶行為</th>\n",
       "      <th>次數</th>\n",
       "    </tr>\n",
       "  </thead>\n",
       "  <tbody>\n",
       "    <tr>\n",
       "      <th>0</th>\n",
       "      <td>00</td>\n",
       "      <td>view</td>\n",
       "      <td>42145</td>\n",
       "    </tr>\n",
       "    <tr>\n",
       "      <th>1</th>\n",
       "      <td>00</td>\n",
       "      <td>collect</td>\n",
       "      <td>954</td>\n",
       "    </tr>\n",
       "    <tr>\n",
       "      <th>2</th>\n",
       "      <td>00</td>\n",
       "      <td>cart</td>\n",
       "      <td>1219</td>\n",
       "    </tr>\n",
       "    <tr>\n",
       "      <th>3</th>\n",
       "      <td>00</td>\n",
       "      <td>buy</td>\n",
       "      <td>456</td>\n",
       "    </tr>\n",
       "    <tr>\n",
       "      <th>4</th>\n",
       "      <td>01</td>\n",
       "      <td>view</td>\n",
       "      <td>22120</td>\n",
       "    </tr>\n",
       "  </tbody>\n",
       "</table>\n",
       "</div>"
      ],
      "text/plain": [
       "   小時     用戶行為     次數\n",
       "0  00     view  42145\n",
       "1  00  collect    954\n",
       "2  00     cart   1219\n",
       "3  00      buy    456\n",
       "4  01     view  22120"
      ]
     },
     "execution_count": 12,
     "metadata": {},
     "output_type": "execute_result"
    }
   ],
   "source": [
    "sql = '''\n",
    "    SELECT STRFTIME('%H', datetime) AS hour,\n",
    "           CASE WHEN behavior_type = '1' THEN 'view' WHEN behavior_type = '2' THEN 'collect' WHEN behavior_type = '3' THEN 'cart' ELSE 'buy' END AS 用戶行為,\n",
    "           count(behavior_type) AS 次數\n",
    "      FROM behavior\n",
    "     GROUP BY hour,\n",
    "              behavior_type;\n",
    "'''\n",
    "hour_behavior = []\n",
    "\n",
    "for row in cur.execute(sql):\n",
    "    hour_behavior.append(row)\n",
    "    \n",
    "df_hour_behavior = pd.DataFrame(hour_behavior, columns=['小時', '用戶行為', '次數'])\n",
    "df_hour_behavior.head(5)"
   ]
  },
  {
   "cell_type": "code",
   "execution_count": 13,
   "id": "a29fff18",
   "metadata": {},
   "outputs": [],
   "source": [
    "view = df_hour_behavior[df_hour_behavior['用戶行為'] == 'view'][['小時', '次數']]\n",
    "collect = df_hour_behavior[df_hour_behavior['用戶行為'] == 'collect'][['小時', '次數']]\n",
    "cart = df_hour_behavior[df_hour_behavior['用戶行為'] == 'cart'][['小時', '次數']]\n",
    "buy = df_hour_behavior[df_hour_behavior['用戶行為'] == 'buy'][['小時', '次數']]"
   ]
  },
  {
   "cell_type": "code",
   "execution_count": 14,
   "id": "2fb48285",
   "metadata": {},
   "outputs": [],
   "source": [
    "hour = list(view['小時'])\n",
    "view_count = list(view['次數'])\n",
    "collect_count = list(collect['次數'])\n",
    "cart_count = list(cart['次數'])\n",
    "buy_count = list(buy['次數'])"
   ]
  },
  {
   "cell_type": "code",
   "execution_count": 15,
   "id": "2c1eab83",
   "metadata": {},
   "outputs": [
    {
     "data": {
      "text/plain": [
       "'/Users/yanghaoyu/side_project/taobao/不同時間點-用戶行為.html'"
      ]
     },
     "execution_count": 15,
     "metadata": {},
     "output_type": "execute_result"
    }
   ],
   "source": [
    "(\n",
    "    Line()\n",
    "    .add_xaxis(hour)\n",
    "    .add_yaxis('view', y_axis=view_count)\n",
    "    .add_yaxis('collect', y_axis=collect_count)\n",
    "    .add_yaxis('cart', y_axis=cart_count)\n",
    "    .add_yaxis('buy', y_axis=buy_count)\n",
    "    .set_global_opts(title_opts=opts.TitleOpts(title='不同時間點-用戶行為', subtitle='x軸-時間, y軸-行為發生次數'))\n",
    ").render('不同時間點-用戶行為.html')"
   ]
  },
  {
   "cell_type": "code",
   "execution_count": 16,
   "id": "45c777af",
   "metadata": {},
   "outputs": [
    {
     "data": {
      "text/plain": [
       "'/Users/yanghaoyu/side_project/taobao/不同時間點-用戶行為細部.html'"
      ]
     },
     "execution_count": 16,
     "metadata": {},
     "output_type": "execute_result"
    }
   ],
   "source": [
    "# from pyecharts.charts import Line\n",
    "(\n",
    "    Line()\n",
    "    .add_xaxis(hour)\n",
    "    .add_yaxis('collect', y_axis=collect_count)\n",
    "    .add_yaxis('cart', y_axis=cart_count)\n",
    "    .add_yaxis('buy', y_axis=buy_count)\n",
    "    .set_global_opts(title_opts=opts.TitleOpts(title='不同時間點-用戶行為', subtitle='x軸-時間, y軸-行為發生次數'))\n",
    ").render('不同時間點-用戶行為細部.html')"
   ]
  },
  {
   "cell_type": "markdown",
   "id": "32851d2b",
   "metadata": {},
   "source": [
    "## 每日購買數"
   ]
  },
  {
   "cell_type": "code",
   "execution_count": 37,
   "id": "9add8b37",
   "metadata": {},
   "outputs": [
    {
     "data": {
      "text/html": [
       "<div>\n",
       "<style scoped>\n",
       "    .dataframe tbody tr th:only-of-type {\n",
       "        vertical-align: middle;\n",
       "    }\n",
       "\n",
       "    .dataframe tbody tr th {\n",
       "        vertical-align: top;\n",
       "    }\n",
       "\n",
       "    .dataframe thead th {\n",
       "        text-align: right;\n",
       "    }\n",
       "</style>\n",
       "<table border=\"1\" class=\"dataframe\">\n",
       "  <thead>\n",
       "    <tr style=\"text-align: right;\">\n",
       "      <th></th>\n",
       "      <th>日期</th>\n",
       "      <th>購買行為次數</th>\n",
       "    </tr>\n",
       "  </thead>\n",
       "  <tbody>\n",
       "    <tr>\n",
       "      <th>0</th>\n",
       "      <td>2014-11-18</td>\n",
       "      <td>314</td>\n",
       "    </tr>\n",
       "    <tr>\n",
       "      <th>1</th>\n",
       "      <td>2014-11-19</td>\n",
       "      <td>322</td>\n",
       "    </tr>\n",
       "    <tr>\n",
       "      <th>2</th>\n",
       "      <td>2014-11-20</td>\n",
       "      <td>293</td>\n",
       "    </tr>\n",
       "    <tr>\n",
       "      <th>3</th>\n",
       "      <td>2014-11-21</td>\n",
       "      <td>242</td>\n",
       "    </tr>\n",
       "    <tr>\n",
       "      <th>4</th>\n",
       "      <td>2014-11-22</td>\n",
       "      <td>299</td>\n",
       "    </tr>\n",
       "  </tbody>\n",
       "</table>\n",
       "</div>"
      ],
      "text/plain": [
       "           日期  購買行為次數\n",
       "0  2014-11-18     314\n",
       "1  2014-11-19     322\n",
       "2  2014-11-20     293\n",
       "3  2014-11-21     242\n",
       "4  2014-11-22     299"
      ]
     },
     "execution_count": 37,
     "metadata": {},
     "output_type": "execute_result"
    }
   ],
   "source": [
    "sql = '''\n",
    "    SELECT STRFTIME('%Y-%m-%d', datetime) AS date,\n",
    "           count(behavior_type) AS 購買次數\n",
    "      FROM behavior\n",
    "     WHERE behavior_type = '4'\n",
    "     GROUP BY date,\n",
    "              behavior_type;\n",
    "'''\n",
    "buy_behavior = []\n",
    "\n",
    "for row in cur.execute(sql):\n",
    "    buy_behavior.append(row)\n",
    "    \n",
    "df_buy_behavior = pd.DataFrame(buy_behavior, columns=['日期', '購買行為次數'])\n",
    "df_buy_behavior.head(5)"
   ]
  },
  {
   "cell_type": "code",
   "execution_count": 42,
   "id": "72b771e9",
   "metadata": {},
   "outputs": [
    {
     "data": {
      "text/plain": [
       "'/Users/yanghaoyu/side_project/taobao/每日購買數.html'"
      ]
     },
     "execution_count": 42,
     "metadata": {},
     "output_type": "execute_result"
    }
   ],
   "source": [
    "# from pyecharts.charts import Line\n",
    "day = list(df_buy_behavior['日期'])\n",
    "buy_count = list(df_buy_behavior['購買行為次數'])\n",
    "(\n",
    "    Line()\n",
    "    .add_xaxis(day)\n",
    "    .add_yaxis('buy', y_axis=buy_count)\n",
    "    .set_global_opts(title_opts=opts.TitleOpts(title='每日購買數', subtitle='x軸-時間, y軸-購買量', pos_left=40))\n",
    ").render('每日購買數.html')"
   ]
  },
  {
   "cell_type": "markdown",
   "id": "989c7e0a",
   "metadata": {},
   "source": [
    "## 累計購買次數統計"
   ]
  },
  {
   "cell_type": "code",
   "execution_count": 19,
   "id": "afad53aa",
   "metadata": {},
   "outputs": [
    {
     "data": {
      "text/html": [
       "<div>\n",
       "<style scoped>\n",
       "    .dataframe tbody tr th:only-of-type {\n",
       "        vertical-align: middle;\n",
       "    }\n",
       "\n",
       "    .dataframe tbody tr th {\n",
       "        vertical-align: top;\n",
       "    }\n",
       "\n",
       "    .dataframe thead th {\n",
       "        text-align: right;\n",
       "    }\n",
       "</style>\n",
       "<table border=\"1\" class=\"dataframe\">\n",
       "  <thead>\n",
       "    <tr style=\"text-align: right;\">\n",
       "      <th></th>\n",
       "      <th>次數</th>\n",
       "    </tr>\n",
       "  </thead>\n",
       "  <tbody>\n",
       "    <tr>\n",
       "      <th>0</th>\n",
       "      <td>3</td>\n",
       "    </tr>\n",
       "    <tr>\n",
       "      <th>1</th>\n",
       "      <td>2</td>\n",
       "    </tr>\n",
       "    <tr>\n",
       "      <th>2</th>\n",
       "      <td>2</td>\n",
       "    </tr>\n",
       "    <tr>\n",
       "      <th>3</th>\n",
       "      <td>4</td>\n",
       "    </tr>\n",
       "    <tr>\n",
       "      <th>4</th>\n",
       "      <td>1</td>\n",
       "    </tr>\n",
       "  </tbody>\n",
       "</table>\n",
       "</div>"
      ],
      "text/plain": [
       "   次數\n",
       "0   3\n",
       "1   2\n",
       "2   2\n",
       "3   4\n",
       "4   1"
      ]
     },
     "execution_count": 19,
     "metadata": {},
     "output_type": "execute_result"
    }
   ],
   "source": [
    "sql = '''\n",
    "    SELECT count( * ) AS 次數\n",
    "      FROM behavior\n",
    "     WHERE behavior_type = '4'\n",
    "     GROUP BY user_id;\n",
    "'''\n",
    "buy_count= []\n",
    "\n",
    "for row in cur.execute(sql):\n",
    "    buy_count.append(row)\n",
    "    \n",
    "df_buy_count = pd.DataFrame(buy_count, columns=['次數'])\n",
    "df_buy_count.head(5)"
   ]
  },
  {
   "cell_type": "code",
   "execution_count": 20,
   "id": "c40ec953",
   "metadata": {},
   "outputs": [
    {
     "name": "stderr",
     "output_type": "stream",
     "text": [
      "/Users/yanghaoyu/opt/anaconda3/lib/python3.9/site-packages/matplotlib/backends/backend_agg.py:240: RuntimeWarning: Glyph 27425 missing from current font.\n",
      "  font.set_text(s, 0.0, flags=flags)\n",
      "/Users/yanghaoyu/opt/anaconda3/lib/python3.9/site-packages/matplotlib/backends/backend_agg.py:240: RuntimeWarning: Glyph 25976 missing from current font.\n",
      "  font.set_text(s, 0.0, flags=flags)\n",
      "/Users/yanghaoyu/opt/anaconda3/lib/python3.9/site-packages/matplotlib/backends/backend_agg.py:203: RuntimeWarning: Glyph 27425 missing from current font.\n",
      "  font.set_text(s, 0, flags=flags)\n",
      "/Users/yanghaoyu/opt/anaconda3/lib/python3.9/site-packages/matplotlib/backends/backend_agg.py:203: RuntimeWarning: Glyph 25976 missing from current font.\n",
      "  font.set_text(s, 0, flags=flags)\n"
     ]
    },
    {
     "data": {
      "image/png": "[encoded data removed]",
      "text/plain": [
       "<Figure size 432x288 with 1 Axes>"
      ]
     },
     "metadata": {
      "needs_background": "light"
     },
     "output_type": "display_data"
    }
   ],
   "source": [
    "boxplot = df_buy_count.boxplot(column=['次數'], rot=0, grid = False, fontsize=15)"
   ]
  },
  {
   "cell_type": "code",
   "execution_count": 77,
   "id": "0a72f3cb",
   "metadata": {
    "scrolled": true
   },
   "outputs": [
    {
     "data": {
      "image/png": "[encoded data removed]",
      "text/plain": [
       "<Figure size 720x360 with 1 Axes>"
      ]
     },
     "metadata": {
      "needs_background": "light"
     },
     "output_type": "display_data"
    }
   ],
   "source": [
    "plt.rcParams['font.sans-serif'] = ['Arial Unicode MS']\n",
    "\n",
    "plt.figure()\n",
    "ax = df_buy_count['次數'].plot.hist(bins=100, alpha=0.8, figsize=(10,5), fontsize=15)\n",
    "ax.set_title('F_values', fontsize=25)\n",
    "ax.set_xlabel(\"購買次數\", fontsize=20)\n",
    "ax.set_ylabel(\"人數\", fontsize=20)\n",
    "plt.savefig('累計購買次數.png', dpi=100)"
   ]
  },
  {
   "cell_type": "code",
   "execution_count": 25,
   "id": "e15d7c85",
   "metadata": {},
   "outputs": [
    {
     "data": {
      "text/html": [
       "<div>\n",
       "<style scoped>\n",
       "    .dataframe tbody tr th:only-of-type {\n",
       "        vertical-align: middle;\n",
       "    }\n",
       "\n",
       "    .dataframe tbody tr th {\n",
       "        vertical-align: top;\n",
       "    }\n",
       "\n",
       "    .dataframe thead th {\n",
       "        text-align: right;\n",
       "    }\n",
       "</style>\n",
       "<table border=\"1\" class=\"dataframe\">\n",
       "  <thead>\n",
       "    <tr style=\"text-align: right;\">\n",
       "      <th></th>\n",
       "      <th>user_id</th>\n",
       "      <th>date</th>\n",
       "    </tr>\n",
       "  </thead>\n",
       "  <tbody>\n",
       "    <tr>\n",
       "      <th>0</th>\n",
       "      <td>98047837</td>\n",
       "      <td>2014-12-06</td>\n",
       "    </tr>\n",
       "    <tr>\n",
       "      <th>1</th>\n",
       "      <td>97726136</td>\n",
       "      <td>2014-12-09</td>\n",
       "    </tr>\n",
       "    <tr>\n",
       "      <th>2</th>\n",
       "      <td>98607707</td>\n",
       "      <td>2014-12-18</td>\n",
       "    </tr>\n",
       "    <tr>\n",
       "      <th>3</th>\n",
       "      <td>98662432</td>\n",
       "      <td>2014-12-06</td>\n",
       "    </tr>\n",
       "    <tr>\n",
       "      <th>4</th>\n",
       "      <td>98145908</td>\n",
       "      <td>2014-12-16</td>\n",
       "    </tr>\n",
       "  </tbody>\n",
       "</table>\n",
       "</div>"
      ],
      "text/plain": [
       "    user_id        date\n",
       "0  98047837  2014-12-06\n",
       "1  97726136  2014-12-09\n",
       "2  98607707  2014-12-18\n",
       "3  98662432  2014-12-06\n",
       "4  98145908  2014-12-16"
      ]
     },
     "execution_count": 25,
     "metadata": {},
     "output_type": "execute_result"
    }
   ],
   "source": [
    "sql = '''\n",
    "    SELECT user_id,\n",
    "           strftime('%Y-%m-%d', datetime) AS date\n",
    "      FROM behavior;\n",
    "'''\n",
    "recency= []\n",
    "\n",
    "for row in cur.execute(sql):\n",
    "    recency.append(row)\n",
    "    \n",
    "df_recency = pd.DataFrame(recency, columns=['user_id', 'date'])\n",
    "df_recency.head(5)"
   ]
  },
  {
   "cell_type": "code",
   "execution_count": 32,
   "id": "985d9448",
   "metadata": {},
   "outputs": [],
   "source": [
    "df_recency['date'] = pd.to_datetime(df_recency['date'])\n",
    "r = (pd.to_datetime('2014-12-19') - df_recency.groupby('user_id')['date'].max()).dt.days"
   ]
  },
  {
   "cell_type": "code",
   "execution_count": 43,
   "id": "5aa46d1f",
   "metadata": {},
   "outputs": [
    {
     "data": {
      "text/plain": [
       "user_id\n",
       "7409910      31\n",
       "117489231    31\n",
       "62989125     31\n",
       "12093186     31\n",
       "93492827     30\n",
       "             ..\n",
       "26529364      1\n",
       "26509398      1\n",
       "26460336      1\n",
       "26438512      1\n",
       "99989881      1\n",
       "Name: date, Length: 8477, dtype: int64"
      ]
     },
     "execution_count": 43,
     "metadata": {},
     "output_type": "execute_result"
    }
   ],
   "source": [
    "r.sort_values(ascending=False)"
   ]
  },
  {
   "cell_type": "code",
   "execution_count": 80,
   "id": "fda49f1f",
   "metadata": {},
   "outputs": [
    {
     "data": {
      "text/plain": [
       "count    8477.000000\n",
       "mean        3.006960\n",
       "std         3.986832\n",
       "min         1.000000\n",
       "25%         1.000000\n",
       "50%         1.000000\n",
       "75%         3.000000\n",
       "max        31.000000\n",
       "Name: date, dtype: float64"
      ]
     },
     "execution_count": 80,
     "metadata": {},
     "output_type": "execute_result"
    }
   ],
   "source": [
    "r.describe()"
   ]
  },
  {
   "cell_type": "code",
   "execution_count": 76,
   "id": "4afad5b9",
   "metadata": {},
   "outputs": [
    {
     "data": {
      "image/png": "[encoded data removed]",
      "text/plain": [
       "<Figure size 432x432 with 1 Axes>"
      ]
     },
     "metadata": {
      "needs_background": "light"
     },
     "output_type": "display_data"
    }
   ],
   "source": [
    "plt.figure(figsize=(6, 6))\n",
    "plt.hist(r)\n",
    "plt.title(\"R_values\", fontsize=25)\n",
    "# plt.set_xlabel('購買次數')\n",
    "plt.xlabel(\"距離上一次購買天數\", fontsize=20)\n",
    "plt.ylabel(\"人數\", fontsize=20)\n",
    "plt.savefig('r_value.png')"
   ]
  },
  {
   "cell_type": "code",
   "execution_count": null,
   "id": "8b49f212",
   "metadata": {},
   "outputs": [],
   "source": []
  }
 ],
 "metadata": {
  "kernelspec": {
   "display_name": "Python 3 (ipykernel)",
   "language": "python",
   "name": "python3"
  },
  "language_info": {
   "codemirror_mode": {
    "name": "ipython",
    "version": 3
   },
   "file_extension": ".py",
   "mimetype": "text/x-python",
   "name": "python",
   "nbconvert_exporter": "python",
   "pygments_lexer": "ipython3",
   "version": "3.9.7"
  }
 },
 "nbformat": 4,
 "nbformat_minor": 5
}
